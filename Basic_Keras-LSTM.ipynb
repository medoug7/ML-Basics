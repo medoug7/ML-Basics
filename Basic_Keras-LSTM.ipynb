{
 "cells": [
  {
   "cell_type": "code",
   "execution_count": 1,
   "metadata": {},
   "outputs": [
    {
     "name": "stderr",
     "output_type": "stream",
     "text": [
      "Using TensorFlow backend.\n"
     ]
    }
   ],
   "source": [
    "import numpy as np\n",
    "import pandas as pd\n",
    "import matplotlib.pyplot as plt\n",
    "import math\n",
    "\n",
    "from keras.models import Sequential\n",
    "from keras.layers import Dense, LSTM, Flatten, GRU, Bidirectional, TimeDistributed\n",
    "from sklearn.preprocessing import MinMaxScaler\n",
    "from sklearn.metrics import mean_squared_error"
   ]
  },
  {
   "cell_type": "markdown",
   "metadata": {},
   "source": [
    "Neste tutorial veremos como implementar diferentes de técnicas de Redes Neurais Recorrentes (RNN) para análise e previsão de dados sequenciais ou distribuídos no tempo. Para isso vamos usar as camadas LSTM (Long Short-Term Memory), que são camadas especializadas para \"lembrar\" dos elementos de informação de uma sequência. Se quiser saber mais sobre LSTMs recomendo o vídeo: https://www.youtube.com/watch?v=ZvBJxh5O3H0\n",
    "\n",
    "Este tutorial é adaptado do post: https://machinelearningmastery.com/time-series-prediction-lstm-recurrent-neural-networks-python-keras/"
   ]
  },
  {
   "cell_type": "markdown",
   "metadata": {},
   "source": [
    "# Problema modelo\n",
    "\n",
    "Dado determinado dia de determinado mês, queremos prever o número de passageiros que voarão com a compania aérea X (em unidades de 1000). Os dados cobrem um intervalo de janeiro de 1949 até dezembro de 1960, ou 12 anos, com  144 observações."
   ]
  },
  {
   "cell_type": "code",
   "execution_count": 2,
   "metadata": {},
   "outputs": [
    {
     "data": {
      "image/png": "[encoded data removed]",
      "text/plain": [
       "<Figure size 432x288 with 1 Axes>"
      ]
     },
     "metadata": {
      "needs_background": "light"
     },
     "output_type": "display_data"
    }
   ],
   "source": [
    "dt = pd.read_csv('./data/airline-passengers.csv', usecols=[1], engine='python')\n",
    "plt.plot(dt)\n",
    "plt.show()\n",
    "\n",
    "# fixar uma seed para reproducibilidade\n",
    "np.random.seed(7)"
   ]
  },
  {
   "cell_type": "code",
   "execution_count": 3,
   "metadata": {},
   "outputs": [
    {
     "name": "stdout",
     "output_type": "stream",
     "text": [
      "96 48\n"
     ]
    }
   ],
   "source": [
    "dataset = dt.values\n",
    "dataset = dataset.astype('float32')\n",
    "\n",
    "# normalizar o dataset para acelerar o treinamento\n",
    "scaler = MinMaxScaler(feature_range=(0, 1))\n",
    "dataset = scaler.fit_transform(dataset)\n",
    "\n",
    "# vamos dividir os dados em treino e teste\n",
    "train_size = int(len(dataset) * 0.67)\n",
    "test_size = len(dataset) - train_size\n",
    "train, test = dataset[0:train_size,:], dataset[train_size:len(dataset),:]\n",
    "print(len(train), len(test))"
   ]
  },
  {
   "cell_type": "markdown",
   "metadata": {},
   "source": [
    "Agora vamos precisar de uma função para organizar os dados da maneira necessária para treinar a rede.\n",
    "\n",
    "A função toma dois argumentos: o \"dataset\", que é o array com a info que queremos manipular, e o \"look_back\", que é o número de obsevações anteriores que será usado como input para que a rede preveja o valor no próximo passo temporal.\n",
    "\n",
    "A função abaixo vai criar um dataset em que X é o nº de passageiros num momento (t), e Y é o nº de passageiro no próximo momento (t+1) que a rede será treinada a prever."
   ]
  },
  {
   "cell_type": "code",
   "execution_count": 4,
   "metadata": {},
   "outputs": [
    {
     "name": "stdout",
     "output_type": "stream",
     "text": [
      "today, next\n",
      "[0.01544401] 0.027027026\n",
      "[0.02702703] 0.05405405\n",
      "[0.05405405] 0.04826255\n",
      "[0.04826255] 0.032818526\n",
      "[0.03281853] 0.059845567\n",
      "[0.05984557] 0.08494207\n",
      "[0.08494207] 0.08494207\n",
      "[0.08494207] 0.06177607\n"
     ]
    }
   ],
   "source": [
    "def create_dataset(dataset, look_back=1):\n",
    "    dataX, dataY = [], []\n",
    "    for i in range(len(dataset) - look_back - 1):\n",
    "        a = dataset[i:(i+look_back), 0]\n",
    "        b = dataset[i + look_back, 0]\n",
    "        dataX.append(a)\n",
    "        dataY.append(b)\n",
    "    return np.array(dataX), np.array(dataY)\n",
    "\n",
    "# 10 exemplos pra ver o como fica o resultado:\n",
    "t = create_dataset(dataset[0:10])\n",
    "\n",
    "print('today, next')\n",
    "for i in range (len(t[0])):\n",
    "    print(t[0][i], t[1][i])"
   ]
  },
  {
   "cell_type": "code",
   "execution_count": 5,
   "metadata": {},
   "outputs": [
    {
     "name": "stdout",
     "output_type": "stream",
     "text": [
      "(94, 1, 1) (94,)\n"
     ]
    }
   ],
   "source": [
    "# reshape X=t and Y=t+1\n",
    "look_back = 1\n",
    "trainX, trainY = create_dataset(train, look_back)\n",
    "testX, testY = create_dataset(test, look_back)\n",
    "\n",
    "# reshape input para [amostras, passos temporais, info]\n",
    "trainX = np.reshape(trainX, (trainX.shape[0], 1, trainX.shape[1]))\n",
    "testX = np.reshape(testX, (testX.shape[0], 1, testX.shape[1]))\n",
    "\n",
    "print(trainX.shape, trainY.shape)"
   ]
  },
  {
   "cell_type": "code",
   "execution_count": 6,
   "metadata": {
    "scrolled": true
   },
   "outputs": [
    {
     "name": "stdout",
     "output_type": "stream",
     "text": [
      "WARNING:tensorflow:From C:\\ProgramData\\Anaconda3\\lib\\site-packages\\tensorflow\\python\\ops\\resource_variable_ops.py:435: colocate_with (from tensorflow.python.framework.ops) is deprecated and will be removed in a future version.\n",
      "Instructions for updating:\n",
      "Colocations handled automatically by placer.\n",
      "Model: \"sequential_1\"\n",
      "_________________________________________________________________\n",
      "Layer (type)                 Output Shape              Param #   \n",
      "=================================================================\n",
      "lstm_1 (LSTM)                (None, 32)                4352      \n",
      "_________________________________________________________________\n",
      "dense_1 (Dense)              (None, 1)                 33        \n",
      "=================================================================\n",
      "Total params: 4,385\n",
      "Trainable params: 4,385\n",
      "Non-trainable params: 0\n",
      "_________________________________________________________________\n"
     ]
    }
   ],
   "source": [
    "# Criar a rede LSTM simples\n",
    "model = Sequential()\n",
    "model.add(LSTM(32, input_shape=(1, look_back)))\n",
    "model.add(Dense(1))\n",
    "model.compile(loss='mean_squared_error', optimizer='adam')\n",
    "\n",
    "# printa as camadas\n",
    "model.summary()"
   ]
  },
  {
   "cell_type": "code",
   "execution_count": 7,
   "metadata": {
    "scrolled": true
   },
   "outputs": [
    {
     "name": "stdout",
     "output_type": "stream",
     "text": [
      "WARNING:tensorflow:From C:\\ProgramData\\Anaconda3\\lib\\site-packages\\tensorflow\\python\\ops\\math_ops.py:3066: to_int32 (from tensorflow.python.ops.math_ops) is deprecated and will be removed in a future version.\n",
      "Instructions for updating:\n",
      "Use tf.cast instead.\n",
      "Epoch 1/50\n",
      "94/94 [==============================] - 2s 25ms/step - loss: 0.0284\n",
      "Epoch 2/50\n",
      "94/94 [==============================] - 0s 4ms/step - loss: 0.0126\n",
      "Epoch 3/50\n",
      "94/94 [==============================] - 0s 5ms/step - loss: 0.0103\n",
      "Epoch 4/50\n",
      "94/94 [==============================] - 0s 4ms/step - loss: 0.0080\n",
      "Epoch 5/50\n",
      "94/94 [==============================] - 0s 4ms/step - loss: 0.0063\n",
      "Epoch 6/50\n",
      "94/94 [==============================] - 0s 4ms/step - loss: 0.0046\n",
      "Epoch 7/50\n",
      "94/94 [==============================] - 0s 3ms/step - loss: 0.0034\n",
      "Epoch 8/50\n",
      "94/94 [==============================] - 0s 3ms/step - loss: 0.0026\n",
      "Epoch 9/50\n",
      "94/94 [==============================] - 0s 5ms/step - loss: 0.0023\n",
      "Epoch 10/50\n",
      "94/94 [==============================] - 0s 5ms/step - loss: 0.0022\n",
      "Epoch 11/50\n",
      "94/94 [==============================] - 0s 4ms/step - loss: 0.0022\n",
      "Epoch 12/50\n",
      "94/94 [==============================] - 0s 4ms/step - loss: 0.0021\n",
      "Epoch 13/50\n",
      "94/94 [==============================] - 0s 3ms/step - loss: 0.0021\n",
      "Epoch 14/50\n",
      "94/94 [==============================] - 0s 3ms/step - loss: 0.0021\n",
      "Epoch 15/50\n",
      "94/94 [==============================] - 0s 4ms/step - loss: 0.0021\n",
      "Epoch 16/50\n",
      "94/94 [==============================] - 0s 4ms/step - loss: 0.0020\n",
      "Epoch 17/50\n",
      "94/94 [==============================] - 0s 4ms/step - loss: 0.0021\n",
      "Epoch 18/50\n",
      "94/94 [==============================] - 0s 4ms/step - loss: 0.0021\n",
      "Epoch 19/50\n",
      "94/94 [==============================] - 0s 4ms/step - loss: 0.0021\n",
      "Epoch 20/50\n",
      "94/94 [==============================] - 0s 4ms/step - loss: 0.0022\n",
      "Epoch 21/50\n",
      "94/94 [==============================] - 0s 4ms/step - loss: 0.0021\n",
      "Epoch 22/50\n",
      "94/94 [==============================] - 0s 5ms/step - loss: 0.0021\n",
      "Epoch 23/50\n",
      "94/94 [==============================] - 0s 4ms/step - loss: 0.0021\n",
      "Epoch 24/50\n",
      "94/94 [==============================] - 0s 4ms/step - loss: 0.0022\n",
      "Epoch 25/50\n",
      "94/94 [==============================] - 0s 4ms/step - loss: 0.0020\n",
      "Epoch 26/50\n",
      "94/94 [==============================] - 0s 4ms/step - loss: 0.0021\n",
      "Epoch 27/50\n",
      "94/94 [==============================] - 0s 4ms/step - loss: 0.0022\n",
      "Epoch 28/50\n",
      "94/94 [==============================] - 0s 4ms/step - loss: 0.0020\n",
      "Epoch 29/50\n",
      "94/94 [==============================] - 0s 5ms/step - loss: 0.0021\n",
      "Epoch 30/50\n",
      "94/94 [==============================] - 0s 5ms/step - loss: 0.0021\n",
      "Epoch 31/50\n",
      "94/94 [==============================] - 0s 5ms/step - loss: 0.0020\n",
      "Epoch 32/50\n",
      "94/94 [==============================] - 0s 4ms/step - loss: 0.0022\n",
      "Epoch 33/50\n",
      "94/94 [==============================] - 0s 4ms/step - loss: 0.0022\n",
      "Epoch 34/50\n",
      "94/94 [==============================] - 0s 3ms/step - loss: 0.0022\n",
      "Epoch 35/50\n",
      "94/94 [==============================] - 0s 3ms/step - loss: 0.0021\n",
      "Epoch 36/50\n",
      "94/94 [==============================] - 0s 3ms/step - loss: 0.0021\n",
      "Epoch 37/50\n",
      "94/94 [==============================] - 0s 3ms/step - loss: 0.0021\n",
      "Epoch 38/50\n",
      "94/94 [==============================] - 0s 4ms/step - loss: 0.0021\n",
      "Epoch 39/50\n",
      "94/94 [==============================] - 0s 4ms/step - loss: 0.0021\n",
      "Epoch 40/50\n",
      "94/94 [==============================] - 0s 3ms/step - loss: 0.0020\n",
      "Epoch 41/50\n",
      "94/94 [==============================] - 0s 3ms/step - loss: 0.0022\n",
      "Epoch 42/50\n",
      "94/94 [==============================] - 0s 5ms/step - loss: 0.0022\n",
      "Epoch 43/50\n",
      "94/94 [==============================] - 0s 4ms/step - loss: 0.0021\n",
      "Epoch 44/50\n",
      "94/94 [==============================] - 0s 5ms/step - loss: 0.0021\n",
      "Epoch 45/50\n",
      "94/94 [==============================] - 0s 5ms/step - loss: 0.0021\n",
      "Epoch 46/50\n",
      "94/94 [==============================] - 0s 5ms/step - loss: 0.0021\n",
      "Epoch 47/50\n",
      "94/94 [==============================] - 1s 6ms/step - loss: 0.0021\n",
      "Epoch 48/50\n",
      "94/94 [==============================] - 0s 4ms/step - loss: 0.0021\n",
      "Epoch 49/50\n",
      "94/94 [==============================] - 0s 4ms/step - loss: 0.0021\n",
      "Epoch 50/50\n",
      "94/94 [==============================] - 0s 4ms/step - loss: 0.0020\n"
     ]
    },
    {
     "data": {
      "text/plain": [
       "<keras.callbacks.callbacks.History at 0x12c262ffd48>"
      ]
     },
     "execution_count": 7,
     "metadata": {},
     "output_type": "execute_result"
    }
   ],
   "source": [
    "#treinar\n",
    "model.fit(trainX, trainY, epochs=50, batch_size=1, verbose=1)"
   ]
  },
  {
   "cell_type": "code",
   "execution_count": 8,
   "metadata": {},
   "outputs": [
    {
     "name": "stdout",
     "output_type": "stream",
     "text": [
      "Train error: 24.67 RMSE\n",
      "Test error: 48.66 RMSE\n"
     ]
    }
   ],
   "source": [
    "# fazer as previsões\n",
    "trainPredict = model.predict(trainX)\n",
    "testPredict = model.predict(testX)\n",
    "\n",
    "# reconverter os valores pra algo inteligível\n",
    "trainPredict = scaler.inverse_transform(trainPredict)\n",
    "trainY = scaler.inverse_transform([trainY])\n",
    "testPredict = scaler.inverse_transform(testPredict)\n",
    "testY = scaler.inverse_transform([testY])\n",
    "\n",
    "# calcular a raiz do erro médio quadrado\n",
    "trainScore = math.sqrt(mean_squared_error(trainY[0], trainPredict[:,0]))\n",
    "print('Train error: %.2f RMSE' % (trainScore))\n",
    "testScore = math.sqrt(mean_squared_error(testY[0], testPredict[:,0]))\n",
    "print('Test error: %.2f RMSE' % (testScore))"
   ]
  },
  {
   "cell_type": "code",
   "execution_count": 9,
   "metadata": {},
   "outputs": [
    {
     "data": {
      "image/png": "[encoded data removed]",
      "text/plain": [
       "<Figure size 432x288 with 1 Axes>"
      ]
     },
     "metadata": {
      "needs_background": "light"
     },
     "output_type": "display_data"
    }
   ],
   "source": [
    "# ajustar as coisas pra plotar\n",
    "trainPredictPlot = np.empty_like(dataset)\n",
    "trainPredictPlot[:, :] = np.nan\n",
    "trainPredictPlot[look_back:len(trainPredict)+look_back, :] = trainPredict\n",
    "\n",
    "testPredictPlot = np.empty_like(dataset)\n",
    "testPredictPlot[:, :] = np.nan\n",
    "testPredictPlot[len(trainPredict)+(look_back*2)+1:len(dataset)-1, :] = testPredict\n",
    "\n",
    "# plot\n",
    "plt.plot(scaler.inverse_transform(dataset))\n",
    "plt.plot(trainPredictPlot)\n",
    "plt.plot(testPredictPlot)\n",
    "plt.show()"
   ]
  },
  {
   "cell_type": "markdown",
   "metadata": {},
   "source": [
    "Enquanto os dados estão representados em azul, as previsões da rede sobre os dados de treinamento estão mostrados em laranja, e as previsões sobre os dados de teste (que a rede nunca viu antes) estão em verde.\n",
    "\n",
    "A qualidade do ajuste é evidente."
   ]
  },
  {
   "cell_type": "markdown",
   "metadata": {},
   "source": [
    "# Método da Janela\n",
    "\n",
    "Também podemos adicionar informação de momentos anteriores no modelo para ajudar ele a realizar a previsão do próximo momento.\n",
    "\n",
    "Isso é chamado de janela, e o tamanho da janela é um parâmetro que deve ser ajustado de acordo com o problema. Neste caso, uma janela de tamanho 3 corresponderia a alimentar ao modelo os momentos com (t), (t-1), e (t-2) como variáveis de input, para ele realizar a previsão do próximo momento (t+1)."
   ]
  },
  {
   "cell_type": "code",
   "execution_count": 10,
   "metadata": {
    "scrolled": true
   },
   "outputs": [
    {
     "name": "stdout",
     "output_type": "stream",
     "text": [
      "(92, 1, 3) (92,)\n"
     ]
    }
   ],
   "source": [
    "# reshape X=t and Y=t+1\n",
    "look_back = 3\n",
    "trainX, trainY = create_dataset(train, look_back)\n",
    "testX, testY = create_dataset(test, look_back)\n",
    "\n",
    "# reshape input para [amostras, passos temporais, info]\n",
    "trainX = np.reshape(trainX, (trainX.shape[0], 1, trainX.shape[1]))\n",
    "testX = np.reshape(testX, (testX.shape[0], 1, testX.shape[1]))\n",
    "\n",
    "print(trainX.shape, trainY.shape)"
   ]
  },
  {
   "cell_type": "code",
   "execution_count": 11,
   "metadata": {
    "scrolled": true
   },
   "outputs": [
    {
     "name": "stdout",
     "output_type": "stream",
     "text": [
      "Epoch 1/50\n",
      "92/92 [==============================] - 3s 28ms/step - loss: 0.0181\n",
      "Epoch 2/50\n",
      "92/92 [==============================] - 1s 7ms/step - loss: 0.0069\n",
      "Epoch 3/50\n",
      "92/92 [==============================] - 0s 5ms/step - loss: 0.0054- ETA: 0s - loss:\n",
      "Epoch 4/50\n",
      "92/92 [==============================] - 0s 5ms/step - loss: 0.0045\n",
      "Epoch 5/50\n",
      "92/92 [==============================] - 0s 4ms/step - loss: 0.0043\n",
      "Epoch 6/50\n",
      "92/92 [==============================] - 0s 5ms/step - loss: 0.0040\n",
      "Epoch 7/50\n",
      "92/92 [==============================] - 0s 5ms/step - loss: 0.0036\n",
      "Epoch 8/50\n",
      "92/92 [==============================] - 0s 5ms/step - loss: 0.0037A: 0s - loss: \n",
      "Epoch 9/50\n",
      "92/92 [==============================] - 0s 5ms/step - loss: 0.0036\n",
      "Epoch 10/50\n",
      "92/92 [==============================] - 0s 4ms/step - loss: 0.0035\n",
      "Epoch 11/50\n",
      "92/92 [==============================] - 0s 5ms/step - loss: 0.0036\n",
      "Epoch 12/50\n",
      "92/92 [==============================] - 0s 4ms/step - loss: 0.0033\n",
      "Epoch 13/50\n",
      "92/92 [==============================] - 0s 5ms/step - loss: 0.0035\n",
      "Epoch 14/50\n",
      "92/92 [==============================] - 0s 4ms/step - loss: 0.0031\n",
      "Epoch 15/50\n",
      "92/92 [==============================] - 0s 5ms/step - loss: 0.0033\n",
      "Epoch 16/50\n",
      "92/92 [==============================] - 0s 5ms/step - loss: 0.0029\n",
      "Epoch 17/50\n",
      "92/92 [==============================] - 0s 4ms/step - loss: 0.0029\n",
      "Epoch 18/50\n",
      "92/92 [==============================] - 0s 4ms/step - loss: 0.0030\n",
      "Epoch 19/50\n",
      "92/92 [==============================] - 0s 4ms/step - loss: 0.0027\n",
      "Epoch 20/50\n",
      "92/92 [==============================] - ETA: 0s - loss: 0.002 - 0s 4ms/step - loss: 0.0029\n",
      "Epoch 21/50\n",
      "92/92 [==============================] - 0s 4ms/step - loss: 0.0029\n",
      "Epoch 22/50\n",
      "92/92 [==============================] - 0s 4ms/step - loss: 0.0028\n",
      "Epoch 23/50\n",
      "92/92 [==============================] - 0s 4ms/step - loss: 0.0027\n",
      "Epoch 24/50\n",
      "92/92 [==============================] - 0s 4ms/step - loss: 0.0024\n",
      "Epoch 25/50\n",
      "92/92 [==============================] - 0s 4ms/step - loss: 0.0026\n",
      "Epoch 26/50\n",
      "92/92 [==============================] - 0s 4ms/step - loss: 0.0024\n",
      "Epoch 27/50\n",
      "92/92 [==============================] - 0s 4ms/step - loss: 0.0025\n",
      "Epoch 28/50\n",
      "92/92 [==============================] - 0s 4ms/step - loss: 0.0025\n",
      "Epoch 29/50\n",
      "92/92 [==============================] - 0s 4ms/step - loss: 0.0022\n",
      "Epoch 30/50\n",
      "92/92 [==============================] - 0s 5ms/step - loss: 0.0024\n",
      "Epoch 31/50\n",
      "92/92 [==============================] - 0s 4ms/step - loss: 0.0023\n",
      "Epoch 32/50\n",
      "92/92 [==============================] - 0s 4ms/step - loss: 0.0023\n",
      "Epoch 33/50\n",
      "92/92 [==============================] - 0s 4ms/step - loss: 0.0023\n",
      "Epoch 34/50\n",
      "92/92 [==============================] - 0s 4ms/step - loss: 0.0021\n",
      "Epoch 35/50\n",
      "92/92 [==============================] - 0s 4ms/step - loss: 0.0023\n",
      "Epoch 36/50\n",
      "92/92 [==============================] - 0s 4ms/step - loss: 0.0021\n",
      "Epoch 37/50\n",
      "92/92 [==============================] - 0s 4ms/step - loss: 0.0021\n",
      "Epoch 38/50\n",
      "92/92 [==============================] - 0s 4ms/step - loss: 0.0022\n",
      "Epoch 39/50\n",
      "92/92 [==============================] - 0s 4ms/step - loss: 0.0022\n",
      "Epoch 40/50\n",
      "92/92 [==============================] - 0s 4ms/step - loss: 0.0020\n",
      "Epoch 41/50\n",
      "92/92 [==============================] - 0s 4ms/step - loss: 0.0021\n",
      "Epoch 42/50\n",
      "92/92 [==============================] - 0s 4ms/step - loss: 0.0022\n",
      "Epoch 43/50\n",
      "92/92 [==============================] - 0s 4ms/step - loss: 0.0020\n",
      "Epoch 44/50\n",
      "92/92 [==============================] - 0s 4ms/step - loss: 0.0021\n",
      "Epoch 45/50\n",
      "92/92 [==============================] - 0s 4ms/step - loss: 0.0021\n",
      "Epoch 46/50\n",
      "92/92 [==============================] - 0s 4ms/step - loss: 0.0021 ETA: 0s - loss: 0\n",
      "Epoch 47/50\n",
      "92/92 [==============================] - ETA: 0s - loss: 0.002 - 0s 5ms/step - loss: 0.0019\n",
      "Epoch 48/50\n",
      "92/92 [==============================] - 1s 6ms/step - loss: 0.0019A: 0s - loss: 0.0\n",
      "Epoch 49/50\n",
      "92/92 [==============================] - 0s 5ms/step - loss: 0.0021\n",
      "Epoch 50/50\n",
      "92/92 [==============================] - 1s 6ms/step - loss: 0.0019\n"
     ]
    },
    {
     "data": {
      "text/plain": [
       "<keras.callbacks.callbacks.History at 0x12c28d68f88>"
      ]
     },
     "execution_count": 11,
     "metadata": {},
     "output_type": "execute_result"
    }
   ],
   "source": [
    "model = Sequential()\n",
    "model.add(LSTM(32, input_shape=(1, look_back)))\n",
    "model.add(Dense(1))\n",
    "model.compile(loss='mean_squared_error', optimizer='adam')\n",
    "\n",
    "model.fit(trainX, trainY, epochs=50, batch_size=1, verbose=1)"
   ]
  },
  {
   "cell_type": "code",
   "execution_count": 12,
   "metadata": {},
   "outputs": [
    {
     "name": "stdout",
     "output_type": "stream",
     "text": [
      "Train error: 24.62 RMSE\n",
      "Test error: 42.32 RMSE\n"
     ]
    }
   ],
   "source": [
    "# fazer as previsões\n",
    "trainPredict = model.predict(trainX)\n",
    "testPredict = model.predict(testX)\n",
    "\n",
    "# reconverter os valores pra algo inteligível\n",
    "trainPredict = scaler.inverse_transform(trainPredict)\n",
    "trainY = scaler.inverse_transform([trainY])\n",
    "testPredict = scaler.inverse_transform(testPredict)\n",
    "testY = scaler.inverse_transform([testY])\n",
    "\n",
    "# calcular a raiz do erro médio quadrado\n",
    "trainScore = math.sqrt(mean_squared_error(trainY[0], trainPredict[:,0]))\n",
    "print('Train error: %.2f RMSE' % (trainScore))\n",
    "testScore = math.sqrt(mean_squared_error(testY[0], testPredict[:,0]))\n",
    "print('Test error: %.2f RMSE' % (testScore))"
   ]
  },
  {
   "cell_type": "code",
   "execution_count": 13,
   "metadata": {},
   "outputs": [
    {
     "data": {
      "image/png": "[encoded data removed]",
      "text/plain": [
       "<Figure size 432x288 with 1 Axes>"
      ]
     },
     "metadata": {
      "needs_background": "light"
     },
     "output_type": "display_data"
    }
   ],
   "source": [
    "# ajustar as coisas pra plotar\n",
    "trainPredictPlot = np.empty_like(dataset)\n",
    "trainPredictPlot[:, :] = np.nan\n",
    "trainPredictPlot[look_back:len(trainPredict)+look_back, :] = trainPredict\n",
    "\n",
    "testPredictPlot = np.empty_like(dataset)\n",
    "testPredictPlot[:, :] = np.nan\n",
    "testPredictPlot[len(trainPredict)+(look_back*2)+1:len(dataset)-1, :] = testPredict\n",
    "\n",
    "# plot\n",
    "plt.plot(scaler.inverse_transform(dataset))\n",
    "plt.plot(trainPredictPlot)\n",
    "plt.plot(testPredictPlot)\n",
    "plt.show()"
   ]
  },
  {
   "cell_type": "markdown",
   "metadata": {},
   "source": [
    "# Método dos passos temporais\n",
    "\n",
    "Alguns problemas podem ter um numero variado de passos por amostra. No método dos passos, como no exemplo da janela, tomamos momentos anteriores na nossa série como inputs para prever o output do próximo passo, mas ao invés de usar estes passos como inputs separados nós podemos usá-los como passos do próprio único input.\n",
    "\n",
    "Fazemos isso através da mesma representação do método da janela, exceto que agora, quando mudamos o formado dos dados, fazemos as o número de colunas igual à dimensão dos passos que queremos e voltamos com a dimensão das features igual a 1."
   ]
  },
  {
   "cell_type": "code",
   "execution_count": 14,
   "metadata": {},
   "outputs": [
    {
     "name": "stdout",
     "output_type": "stream",
     "text": [
      "(92, 3, 1) (92,)\n"
     ]
    }
   ],
   "source": [
    "# reshape X=t and Y=t+1\n",
    "look_back = 3\n",
    "trainX, trainY = create_dataset(train, look_back)\n",
    "testX, testY = create_dataset(test, look_back)\n",
    "\n",
    "# reshape input para [amostras, passos temporais, info]\n",
    "trainX = np.reshape(trainX, (trainX.shape[0], trainX.shape[1], 1))\n",
    "testX = np.reshape(testX, (testX.shape[0], testX.shape[1], 1))\n",
    "\n",
    "print(trainX.shape,trainY.shape)"
   ]
  },
  {
   "cell_type": "code",
   "execution_count": 15,
   "metadata": {
    "scrolled": true
   },
   "outputs": [
    {
     "name": "stdout",
     "output_type": "stream",
     "text": [
      "Epoch 1/50\n",
      "92/92 [==============================] - 3s 29ms/step - loss: 0.0218\n",
      "Epoch 2/50\n",
      "92/92 [==============================] - 1s 8ms/step - loss: 0.0087\n",
      "Epoch 3/50\n",
      "92/92 [==============================] - 1s 8ms/step - loss: 0.0072\n",
      "Epoch 4/50\n",
      "92/92 [==============================] - 1s 8ms/step - loss: 0.0056\n",
      "Epoch 5/50\n",
      "92/92 [==============================] - 1s 7ms/step - loss: 0.0048\n",
      "Epoch 6/50\n",
      "92/92 [==============================] - 1s 7ms/step - loss: 0.0047\n",
      "Epoch 7/50\n",
      "92/92 [==============================] - 1s 6ms/step - loss: 0.0045\n",
      "Epoch 8/50\n",
      "92/92 [==============================] - 1s 7ms/step - loss: 0.0048\n",
      "Epoch 9/50\n",
      "92/92 [==============================] - 1s 6ms/step - loss: 0.0045\n",
      "Epoch 10/50\n",
      "92/92 [==============================] - 1s 6ms/step - loss: 0.0045\n",
      "Epoch 11/50\n",
      "92/92 [==============================] - 1s 6ms/step - loss: 0.0043\n",
      "Epoch 12/50\n",
      "92/92 [==============================] - 1s 6ms/step - loss: 0.0042\n",
      "Epoch 13/50\n",
      "92/92 [==============================] - 1s 7ms/step - loss: 0.0041\n",
      "Epoch 14/50\n",
      "92/92 [==============================] - 1s 7ms/step - loss: 0.0041\n",
      "Epoch 15/50\n",
      "92/92 [==============================] - 1s 8ms/step - loss: 0.0041\n",
      "Epoch 16/50\n",
      "92/92 [==============================] - 1s 7ms/step - loss: 0.0041\n",
      "Epoch 17/50\n",
      "92/92 [==============================] - 1s 7ms/step - loss: 0.0038\n",
      "Epoch 18/50\n",
      "92/92 [==============================] - 1s 7ms/step - loss: 0.0039\n",
      "Epoch 19/50\n",
      "92/92 [==============================] - 1s 6ms/step - loss: 0.0038\n",
      "Epoch 20/50\n",
      "92/92 [==============================] - 1s 6ms/step - loss: 0.0037\n",
      "Epoch 21/50\n",
      "92/92 [==============================] - 1s 6ms/step - loss: 0.0038\n",
      "Epoch 22/50\n",
      "92/92 [==============================] - 1s 6ms/step - loss: 0.0037\n",
      "Epoch 23/50\n",
      "92/92 [==============================] - 1s 6ms/step - loss: 0.0035\n",
      "Epoch 24/50\n",
      "92/92 [==============================] - 1s 6ms/step - loss: 0.0035\n",
      "Epoch 25/50\n",
      "92/92 [==============================] - 1s 6ms/step - loss: 0.0034\n",
      "Epoch 26/50\n",
      "92/92 [==============================] - 1s 6ms/step - loss: 0.0032\n",
      "Epoch 27/50\n",
      "92/92 [==============================] - 1s 7ms/step - loss: 0.0034\n",
      "Epoch 28/50\n",
      "92/92 [==============================] - 1s 9ms/step - loss: 0.0034\n",
      "Epoch 29/50\n",
      "92/92 [==============================] - 1s 9ms/step - loss: 0.0031\n",
      "Epoch 30/50\n",
      "92/92 [==============================] - 0s 5ms/step - loss: 0.0030\n",
      "Epoch 31/50\n",
      "92/92 [==============================] - 1s 8ms/step - loss: 0.0030\n",
      "Epoch 32/50\n",
      "92/92 [==============================] - 1s 7ms/step - loss: 0.0029\n",
      "Epoch 33/50\n",
      "92/92 [==============================] - 1s 6ms/step - loss: 0.0028\n",
      "Epoch 34/50\n",
      "92/92 [==============================] - 1s 6ms/step - loss: 0.0026\n",
      "Epoch 35/50\n",
      "92/92 [==============================] - 1s 6ms/step - loss: 0.0026\n",
      "Epoch 36/50\n",
      "92/92 [==============================] - 1s 6ms/step - loss: 0.0026\n",
      "Epoch 37/50\n",
      "92/92 [==============================] - 1s 6ms/step - loss: 0.0025\n",
      "Epoch 38/50\n",
      "92/92 [==============================] - 1s 6ms/step - loss: 0.0024\n",
      "Epoch 39/50\n",
      "92/92 [==============================] - 1s 6ms/step - loss: 0.0024\n",
      "Epoch 40/50\n",
      "92/92 [==============================] - 1s 6ms/step - loss: 0.0022\n",
      "Epoch 41/50\n",
      "92/92 [==============================] - 1s 6ms/step - loss: 0.0023\n",
      "Epoch 42/50\n",
      "92/92 [==============================] - 1s 6ms/step - loss: 0.0021\n",
      "Epoch 43/50\n",
      "92/92 [==============================] - 0s 5ms/step - loss: 0.0020\n",
      "Epoch 44/50\n",
      "92/92 [==============================] - 0s 5ms/step - loss: 0.0022\n",
      "Epoch 45/50\n",
      "92/92 [==============================] - 0s 5ms/step - loss: 0.0020\n",
      "Epoch 46/50\n",
      "92/92 [==============================] - 0s 5ms/step - loss: 0.0021\n",
      "Epoch 47/50\n",
      "92/92 [==============================] - 0s 5ms/step - loss: 0.0020\n",
      "Epoch 48/50\n",
      "92/92 [==============================] - 0s 5ms/step - loss: 0.0021\n",
      "Epoch 49/50\n",
      "92/92 [==============================] - 0s 5ms/step - loss: 0.0019\n",
      "Epoch 50/50\n",
      "92/92 [==============================] - 1s 6ms/step - loss: 0.0021\n"
     ]
    },
    {
     "data": {
      "text/plain": [
       "<keras.callbacks.callbacks.History at 0x12c2a6d68c8>"
      ]
     },
     "execution_count": 15,
     "metadata": {},
     "output_type": "execute_result"
    }
   ],
   "source": [
    "model = Sequential()\n",
    "model.add(LSTM(32, input_shape=(look_back, 1)))\n",
    "model.add(Dense(1))\n",
    "model.compile(loss='mean_squared_error', optimizer='adam')\n",
    "\n",
    "model.fit(trainX, trainY, epochs=50, batch_size=1, verbose=1)"
   ]
  },
  {
   "cell_type": "code",
   "execution_count": 16,
   "metadata": {},
   "outputs": [
    {
     "name": "stdout",
     "output_type": "stream",
     "text": [
      "Train error: 23.12 RMSE\n",
      "Test error: 42.64 RMSE\n"
     ]
    }
   ],
   "source": [
    "# fazer as previsões\n",
    "trainPredict = model.predict(trainX)\n",
    "testPredict = model.predict(testX)\n",
    "\n",
    "# reconverter os valores pra algo inteligível\n",
    "trainPredict = scaler.inverse_transform(trainPredict)\n",
    "trainY = scaler.inverse_transform([trainY])\n",
    "testPredict = scaler.inverse_transform(testPredict)\n",
    "testY = scaler.inverse_transform([testY])\n",
    "\n",
    "# calcular a raiz do erro médio quadrado\n",
    "trainScore = math.sqrt(mean_squared_error(trainY[0], trainPredict[:,0]))\n",
    "print('Train error: %.2f RMSE' % (trainScore))\n",
    "testScore = math.sqrt(mean_squared_error(testY[0], testPredict[:,0]))\n",
    "print('Test error: %.2f RMSE' % (testScore))"
   ]
  },
  {
   "cell_type": "code",
   "execution_count": 17,
   "metadata": {},
   "outputs": [
    {
     "data": {
      "image/png": "[encoded data removed]",
      "text/plain": [
       "<Figure size 432x288 with 1 Axes>"
      ]
     },
     "metadata": {
      "needs_background": "light"
     },
     "output_type": "display_data"
    }
   ],
   "source": [
    "# ajustar as coisas pra plotar\n",
    "trainPredictPlot = np.empty_like(dataset)\n",
    "trainPredictPlot[:, :] = np.nan\n",
    "trainPredictPlot[look_back:len(trainPredict)+look_back, :] = trainPredict\n",
    "\n",
    "testPredictPlot = np.empty_like(dataset)\n",
    "testPredictPlot[:, :] = np.nan\n",
    "testPredictPlot[len(trainPredict)+(look_back*2)+1:len(dataset)-1, :] = testPredict\n",
    "\n",
    "# plot\n",
    "plt.plot(scaler.inverse_transform(dataset))\n",
    "plt.plot(trainPredictPlot)\n",
    "plt.plot(testPredictPlot)\n",
    "plt.show()"
   ]
  },
  {
   "cell_type": "markdown",
   "metadata": {},
   "source": [
    "Vemos que o resultado é levemente melhor que o exemplo anterior."
   ]
  },
  {
   "cell_type": "markdown",
   "metadata": {},
   "source": [
    "# Memória entre os Batches\n",
    "\n",
    "Normalmente nós resetamos a rede ao fim de cada batch quando treinando o modelo, e também ao usar as funções model.predict() ou model.evaluate(). Nós podemos controlar quando o estado interno das células LSTM são resetadas ao usar o argumento \"stateful\". Isso significa que ele pode lembrar dos dados em toda a sequência de treino e até manter este estado se precisar realizar previsões.\n",
    "\n",
    "Este método necessita que os dados de treino não sejam aleatorizados (shuffle=False), e também precisa que resetemos a rede explicitamente depois de cada epoch. Então precisamos criar nosso próprio loop externo de epochs e chamar model.fit() e model.reset_states()."
   ]
  },
  {
   "cell_type": "code",
   "execution_count": 37,
   "metadata": {
    "scrolled": true
   },
   "outputs": [
    {
     "name": "stdout",
     "output_type": "stream",
     "text": [
      "(92, 3, 1) (92,) (44, 3, 1)\n"
     ]
    }
   ],
   "source": [
    "# reshape X=t and Y=t+1\n",
    "look_back = 3\n",
    "trainX, trainY = create_dataset(train, look_back)\n",
    "testX, testY = create_dataset(test, look_back)\n",
    "\n",
    "# reshape input para [amostras, passos temporais, info]\n",
    "trainX = np.reshape(trainX, (trainX.shape[0], trainX.shape[1], 1))\n",
    "testX = np.reshape(testX, (testX.shape[0], testX.shape[1], 1))\n",
    "\n",
    "print(trainX.shape, trainY.shape, testX.shape)"
   ]
  },
  {
   "cell_type": "code",
   "execution_count": 38,
   "metadata": {},
   "outputs": [],
   "source": [
    "batch_size = 1\n",
    "model = Sequential()\n",
    "model.add(LSTM(32, batch_input_shape=(batch_size, look_back, 1), stateful=True))\n",
    "model.add(Dense(1))\n",
    "\n",
    "model.compile(loss='mean_squared_error', optimizer='adam')"
   ]
  },
  {
   "cell_type": "code",
   "execution_count": 39,
   "metadata": {
    "scrolled": true
   },
   "outputs": [
    {
     "name": "stdout",
     "output_type": "stream",
     "text": [
      "Epoch 1/1\n",
      "92/92 [==============================] - 2s 25ms/step - loss: 0.0049\n",
      "Epoch 1/1\n",
      "92/92 [==============================] - 0s 5ms/step - loss: 0.0062\n",
      "Epoch 1/1\n",
      "92/92 [==============================] - 1s 6ms/step - loss: 0.0058\n",
      "Epoch 1/1\n",
      "92/92 [==============================] - 1s 6ms/step - loss: 0.0055\n",
      "Epoch 1/1\n",
      "92/92 [==============================] - 1s 6ms/step - loss: 0.0052\n",
      "Epoch 1/1\n",
      "92/92 [==============================] - 1s 6ms/step - loss: 0.0050\n",
      "Epoch 1/1\n",
      "92/92 [==============================] - 1s 6ms/step - loss: 0.0048\n",
      "Epoch 1/1\n",
      "92/92 [==============================] - 1s 6ms/step - loss: 0.0046\n",
      "Epoch 1/1\n",
      "92/92 [==============================] - 1s 6ms/step - loss: 0.0044\n",
      "Epoch 1/1\n",
      "92/92 [==============================] - 1s 6ms/step - loss: 0.0043\n",
      "Epoch 1/1\n",
      "92/92 [==============================] - 1s 6ms/step - loss: 0.0041\n",
      "Epoch 1/1\n",
      "92/92 [==============================] - 1s 6ms/step - loss: 0.0040\n",
      "Epoch 1/1\n",
      "92/92 [==============================] - 0s 5ms/step - loss: 0.0038\n",
      "Epoch 1/1\n",
      "92/92 [==============================] - 1s 6ms/step - loss: 0.0037A: 0s - loss:\n",
      "Epoch 1/1\n",
      "92/92 [==============================] - 1s 6ms/step - loss: 0.0035\n",
      "Epoch 1/1\n",
      "92/92 [==============================] - 1s 6ms/step - loss: 0.0034\n",
      "Epoch 1/1\n",
      "92/92 [==============================] - 0s 5ms/step - loss: 0.0032\n",
      "Epoch 1/1\n",
      "92/92 [==============================] - 0s 5ms/step - loss: 0.0029\n",
      "Epoch 1/1\n",
      "92/92 [==============================] - 0s 4ms/step - loss: 0.0027\n",
      "Epoch 1/1\n",
      "92/92 [==============================] - 0s 4ms/step - loss: 0.0023\n",
      "Epoch 1/1\n",
      "92/92 [==============================] - 0s 4ms/step - loss: 0.0022\n",
      "Epoch 1/1\n",
      "92/92 [==============================] - 0s 4ms/step - loss: 0.0021\n",
      "Epoch 1/1\n",
      "92/92 [==============================] - 0s 4ms/step - loss: 0.0021\n",
      "Epoch 1/1\n",
      "92/92 [==============================] - 0s 5ms/step - loss: 0.0022\n",
      "Epoch 1/1\n",
      "92/92 [==============================] - 0s 5ms/step - loss: 0.0027\n",
      "Epoch 1/1\n",
      "92/92 [==============================] - 0s 5ms/step - loss: 0.0020\n",
      "Epoch 1/1\n",
      "92/92 [==============================] - 1s 6ms/step - loss: 0.0026\n",
      "Epoch 1/1\n",
      "92/92 [==============================] - 1s 6ms/step - loss: 0.0018\n",
      "Epoch 1/1\n",
      "92/92 [==============================] - 1s 6ms/step - loss: 0.0022\n",
      "Epoch 1/1\n",
      "92/92 [==============================] - 1s 6ms/step - loss: 0.0018\n",
      "Epoch 1/1\n",
      "92/92 [==============================] - 1s 6ms/step - loss: 0.0018\n",
      "Epoch 1/1\n",
      "92/92 [==============================] - 1s 6ms/step - loss: 0.0017\n",
      "Epoch 1/1\n",
      "92/92 [==============================] - 1s 6ms/step - loss: 0.0017\n",
      "Epoch 1/1\n",
      "92/92 [==============================] - 1s 6ms/step - loss: 0.0017\n",
      "Epoch 1/1\n",
      "92/92 [==============================] - 0s 5ms/step - loss: 0.0016\n",
      "Epoch 1/1\n",
      "92/92 [==============================] - 0s 4ms/step - loss: 0.0016\n",
      "Epoch 1/1\n",
      "92/92 [==============================] - 0s 5ms/step - loss: 0.0016\n",
      "Epoch 1/1\n",
      "92/92 [==============================] - 1s 7ms/step - loss: 0.0016\n",
      "Epoch 1/1\n",
      "92/92 [==============================] - 0s 5ms/step - loss: 0.0015\n",
      "Epoch 1/1\n",
      "92/92 [==============================] - 1s 7ms/step - loss: 0.0015\n",
      "Epoch 1/1\n",
      "92/92 [==============================] - 0s 5ms/step - loss: 0.0015\n",
      "Epoch 1/1\n",
      "92/92 [==============================] - 1s 6ms/step - loss: 0.0015\n",
      "Epoch 1/1\n",
      "92/92 [==============================] - 1s 6ms/step - loss: 0.0014\n",
      "Epoch 1/1\n",
      "92/92 [==============================] - 1s 6ms/step - loss: 0.0014\n",
      "Epoch 1/1\n",
      "92/92 [==============================] - 1s 7ms/step - loss: 0.0014\n",
      "Epoch 1/1\n",
      "92/92 [==============================] - 1s 6ms/step - loss: 0.0014\n",
      "Epoch 1/1\n",
      "92/92 [==============================] - 1s 7ms/step - loss: 0.0014\n",
      "Epoch 1/1\n",
      "92/92 [==============================] - 1s 8ms/step - loss: 0.0014\n",
      "Epoch 1/1\n",
      "92/92 [==============================] - 1s 8ms/step - loss: 0.0014\n",
      "Epoch 1/1\n",
      "92/92 [==============================] - 1s 6ms/step - loss: 0.0014\n"
     ]
    }
   ],
   "source": [
    "#train\n",
    "for i in range(50):\n",
    "    model.fit(trainX, trainY, epochs=1, batch_size=batch_size, verbose=1, shuffle=False)\n",
    "    model.reset_states()"
   ]
  },
  {
   "cell_type": "code",
   "execution_count": 40,
   "metadata": {},
   "outputs": [
    {
     "name": "stdout",
     "output_type": "stream",
     "text": [
      "Train error: 24.72 RMSE\n",
      "Test error: 69.25 RMSE\n"
     ]
    }
   ],
   "source": [
    "# fazer as previsões\n",
    "trainPredict = model.predict(trainX, batch_size=batch_size)\n",
    "model.reset_states()\n",
    "testPredict = model.predict(testX, batch_size=batch_size)\n",
    "model.reset_states()\n",
    "\n",
    "# reconverter os valores pra algo inteligível\n",
    "trainPredict = scaler.inverse_transform(trainPredict)\n",
    "trainY = scaler.inverse_transform([trainY])\n",
    "testPredict = scaler.inverse_transform(testPredict)\n",
    "testY = scaler.inverse_transform([testY])\n",
    "\n",
    "# calcular a raiz do erro médio quadrado\n",
    "trainScore = math.sqrt(mean_squared_error(trainY[0], trainPredict[:,0]))\n",
    "print('Train error: %.2f RMSE' % (trainScore))\n",
    "testScore = math.sqrt(mean_squared_error(testY[0], testPredict[:,0]))\n",
    "print('Test error: %.2f RMSE' % (testScore))"
   ]
  },
  {
   "cell_type": "code",
   "execution_count": 41,
   "metadata": {},
   "outputs": [
    {
     "data": {
      "image/png": "[encoded data removed]",
      "text/plain": [
       "<Figure size 432x288 with 1 Axes>"
      ]
     },
     "metadata": {
      "needs_background": "light"
     },
     "output_type": "display_data"
    }
   ],
   "source": [
    "# ajustar as coisas pra plotar\n",
    "trainPredictPlot = np.empty_like(dataset)\n",
    "trainPredictPlot[:, :] = np.nan\n",
    "trainPredictPlot[look_back:len(trainPredict)+look_back, :] = trainPredict\n",
    "\n",
    "testPredictPlot = np.empty_like(dataset)\n",
    "testPredictPlot[:, :] = np.nan\n",
    "testPredictPlot[len(trainPredict)+(look_back*2)+1:len(dataset)-1, :] = testPredict\n",
    "\n",
    "# plot\n",
    "plt.plot(scaler.inverse_transform(dataset))\n",
    "plt.plot(trainPredictPlot)\n",
    "plt.plot(testPredictPlot)\n",
    "plt.show()"
   ]
  },
  {
   "cell_type": "markdown",
   "metadata": {},
   "source": [
    "# Stack de LSMS com memória entre Batches\n",
    "\n",
    "Agora vamos combinar o método anterior com o fato que podemos combinar diferentes camadas de LSTM em arquiteturas profundas."
   ]
  },
  {
   "cell_type": "code",
   "execution_count": 42,
   "metadata": {},
   "outputs": [
    {
     "name": "stdout",
     "output_type": "stream",
     "text": [
      "(92, 3, 1) (92,)\n"
     ]
    }
   ],
   "source": [
    "# reshape X=t and Y=t+1\n",
    "look_back = 3\n",
    "trainX, trainY = create_dataset(train, look_back)\n",
    "testX, testY = create_dataset(test, look_back)\n",
    "\n",
    "# reshape input para [amostras, passos temporais, info]\n",
    "trainX = np.reshape(trainX, (trainX.shape[0], trainX.shape[1], 1))\n",
    "testX = np.reshape(testX, (testX.shape[0], testX.shape[1], 1))\n",
    "\n",
    "print(trainX.shape,trainY.shape)"
   ]
  },
  {
   "cell_type": "code",
   "execution_count": 43,
   "metadata": {},
   "outputs": [],
   "source": [
    "batch_size = 1\n",
    "model = Sequential()\n",
    "model.add(LSTM(32, batch_input_shape=(batch_size, look_back, 1), return_sequences=True, stateful=True))\n",
    "model.add(LSTM(16, stateful=True))\n",
    "model.add(Dense(1))\n",
    "\n",
    "model.compile(loss='mean_squared_error', optimizer='adam')"
   ]
  },
  {
   "cell_type": "code",
   "execution_count": 45,
   "metadata": {
    "scrolled": true
   },
   "outputs": [
    {
     "name": "stdout",
     "output_type": "stream",
     "text": [
      "Epoch 1/1\n",
      "92/92 [==============================] - 4s 42ms/step - loss: 0.0065\n",
      "Epoch 1/1\n",
      "92/92 [==============================] - 1s 9ms/step - loss: 0.0091\n",
      "Epoch 1/1\n",
      "92/92 [==============================] - 1s 9ms/step - loss: 0.0091\n",
      "Epoch 1/1\n",
      "92/92 [==============================] - 1s 9ms/step - loss: 0.0087\n",
      "Epoch 1/1\n",
      "92/92 [==============================] - 1s 10ms/step - loss: 0.0079\n",
      "Epoch 1/1\n",
      "92/92 [==============================] - 1s 9ms/step - loss: 0.0073\n",
      "Epoch 1/1\n",
      "92/92 [==============================] - 1s 9ms/step - loss: 0.0066\n",
      "Epoch 1/1\n",
      "92/92 [==============================] - 1s 8ms/step - loss: 0.0062\n",
      "Epoch 1/1\n",
      "92/92 [==============================] - 1s 8ms/step - loss: 0.0059\n",
      "Epoch 1/1\n",
      "92/92 [==============================] - 1s 8ms/step - loss: 0.0056\n",
      "Epoch 1/1\n",
      "92/92 [==============================] - 1s 9ms/step - loss: 0.0054\n",
      "Epoch 1/1\n",
      "92/92 [==============================] - 1s 8ms/step - loss: 0.0052\n",
      "Epoch 1/1\n",
      "92/92 [==============================] - 1s 9ms/step - loss: 0.0051\n",
      "Epoch 1/1\n",
      "92/92 [==============================] - 1s 8ms/step - loss: 0.0049\n",
      "Epoch 1/1\n",
      "92/92 [==============================] - 1s 8ms/step - loss: 0.0047\n",
      "Epoch 1/1\n",
      "92/92 [==============================] - 1s 8ms/step - loss: 0.0045\n",
      "Epoch 1/1\n",
      "92/92 [==============================] - 1s 8ms/step - loss: 0.0042\n",
      "Epoch 1/1\n",
      "92/92 [==============================] - 1s 8ms/step - loss: 0.0040\n",
      "Epoch 1/1\n",
      "92/92 [==============================] - 1s 8ms/step - loss: 0.0051\n",
      "Epoch 1/1\n",
      "92/92 [==============================] - 1s 7ms/step - loss: 0.0040\n",
      "Epoch 1/1\n",
      "92/92 [==============================] - 1s 7ms/step - loss: 0.0062\n",
      "Epoch 1/1\n",
      "92/92 [==============================] - 1s 7ms/step - loss: 0.0050\n",
      "Epoch 1/1\n",
      "92/92 [==============================] - 1s 7ms/step - loss: 0.0042\n",
      "Epoch 1/1\n",
      "92/92 [==============================] - 1s 7ms/step - loss: 0.0039\n",
      "Epoch 1/1\n",
      "92/92 [==============================] - 1s 7ms/step - loss: 0.0037\n",
      "Epoch 1/1\n",
      "92/92 [==============================] - 1s 8ms/step - loss: 0.0035\n",
      "Epoch 1/1\n",
      "92/92 [==============================] - 1s 9ms/step - loss: 0.0033\n",
      "Epoch 1/1\n",
      "92/92 [==============================] - 1s 9ms/step - loss: 0.0032\n",
      "Epoch 1/1\n",
      "92/92 [==============================] - 1s 9ms/step - loss: 0.0030\n",
      "Epoch 1/1\n",
      "92/92 [==============================] - 1s 9ms/step - loss: 0.0029\n",
      "Epoch 1/1\n",
      "92/92 [==============================] - 1s 9ms/step - loss: 0.0027\n",
      "Epoch 1/1\n",
      "92/92 [==============================] - 1s 7ms/step - loss: 0.0026\n",
      "Epoch 1/1\n",
      "92/92 [==============================] - 1s 7ms/step - loss: 0.0024\n",
      "Epoch 1/1\n",
      "92/92 [==============================] - 1s 6ms/step - loss: 0.0023\n",
      "Epoch 1/1\n",
      "92/92 [==============================] - 1s 7ms/step - loss: 0.0022\n",
      "Epoch 1/1\n",
      "92/92 [==============================] - 1s 7ms/step - loss: 0.0021\n",
      "Epoch 1/1\n",
      "92/92 [==============================] - 1s 7ms/step - loss: 0.0021\n",
      "Epoch 1/1\n",
      "92/92 [==============================] - 1s 7ms/step - loss: 0.0020\n",
      "Epoch 1/1\n",
      "92/92 [==============================] - 1s 10ms/step - loss: 0.0019\n",
      "Epoch 1/1\n",
      "92/92 [==============================] - 1s 9ms/step - loss: 0.0019\n",
      "Epoch 1/1\n",
      "92/92 [==============================] - 1s 8ms/step - loss: 0.0018\n",
      "Epoch 1/1\n",
      "92/92 [==============================] - 1s 9ms/step - loss: 0.0018\n",
      "Epoch 1/1\n",
      "92/92 [==============================] - 1s 8ms/step - loss: 0.0017\n",
      "Epoch 1/1\n",
      "92/92 [==============================] - 1s 9ms/step - loss: 0.0017\n",
      "Epoch 1/1\n",
      "92/92 [==============================] - 1s 7ms/step - loss: 0.0016\n",
      "Epoch 1/1\n",
      "92/92 [==============================] - 1s 7ms/step - loss: 0.0016\n",
      "Epoch 1/1\n",
      "92/92 [==============================] - 1s 7ms/step - loss: 0.0015\n",
      "Epoch 1/1\n",
      "92/92 [==============================] - 1s 9ms/step - loss: 0.0015\n",
      "Epoch 1/1\n",
      "92/92 [==============================] - 1s 6ms/step - loss: 0.0015\n",
      "Epoch 1/1\n",
      "92/92 [==============================] - 1s 6ms/step - loss: 0.0015\n"
     ]
    }
   ],
   "source": [
    "for i in range(50):\n",
    "    model.fit(trainX, trainY, epochs=1, batch_size=batch_size, verbose=1, shuffle=False)\n",
    "    model.reset_states()"
   ]
  },
  {
   "cell_type": "code",
   "execution_count": 46,
   "metadata": {},
   "outputs": [
    {
     "name": "stdout",
     "output_type": "stream",
     "text": [
      "Train error: 20.15 RMSE\n",
      "Test error: 51.66 RMSE\n"
     ]
    }
   ],
   "source": [
    "# fazer as previsões\n",
    "trainPredict = model.predict(trainX, batch_size=batch_size)\n",
    "model.reset_states()\n",
    "testPredict = model.predict(testX, batch_size=batch_size)\n",
    "model.reset_states()\n",
    "\n",
    "# reconverter os valores pra algo inteligível\n",
    "trainPredict = scaler.inverse_transform(trainPredict)\n",
    "trainY = scaler.inverse_transform([trainY])\n",
    "testPredict = scaler.inverse_transform(testPredict)\n",
    "testY = scaler.inverse_transform([testY])\n",
    "\n",
    "# calcular a raiz do erro médio quadrado\n",
    "trainScore = math.sqrt(mean_squared_error(trainY[0], trainPredict[:,0]))\n",
    "print('Train error: %.2f RMSE' % (trainScore))\n",
    "testScore = math.sqrt(mean_squared_error(testY[0], testPredict[:,0]))\n",
    "print('Test error: %.2f RMSE' % (testScore))"
   ]
  },
  {
   "cell_type": "code",
   "execution_count": 47,
   "metadata": {},
   "outputs": [
    {
     "data": {
      "image/png": "[encoded data removed]",
      "text/plain": [
       "<Figure size 432x288 with 1 Axes>"
      ]
     },
     "metadata": {
      "needs_background": "light"
     },
     "output_type": "display_data"
    }
   ],
   "source": [
    "# ajustar as coisas pra plotar\n",
    "trainPredictPlot = np.empty_like(dataset)\n",
    "trainPredictPlot[:, :] = np.nan\n",
    "trainPredictPlot[look_back:len(trainPredict)+look_back, :] = trainPredict\n",
    "\n",
    "testPredictPlot = np.empty_like(dataset)\n",
    "testPredictPlot[:, :] = np.nan\n",
    "testPredictPlot[len(trainPredict)+(look_back*2)+1:len(dataset)-1, :] = testPredict\n",
    "\n",
    "# plot\n",
    "plt.plot(scaler.inverse_transform(dataset))\n",
    "plt.plot(trainPredictPlot)\n",
    "plt.plot(testPredictPlot)\n",
    "plt.show()"
   ]
  },
  {
   "cell_type": "markdown",
   "metadata": {},
   "source": [
    "# LSTM Bidirecionais\n",
    "\n",
    "Também é possível combinar duas camadas LSTM que vão em direções diferentes no tempo e assim, têm melhor precisão. O keras permite a construção de camadas bidirecionais de maneira muito fácil."
   ]
  },
  {
   "cell_type": "code",
   "execution_count": 54,
   "metadata": {},
   "outputs": [
    {
     "name": "stdout",
     "output_type": "stream",
     "text": [
      "(92, 3, 1) (92,)\n"
     ]
    }
   ],
   "source": [
    "# reshape X=t and Y=t+1\n",
    "look_back = 3\n",
    "trainX, trainY = create_dataset(train, look_back)\n",
    "testX, testY = create_dataset(test, look_back)\n",
    "\n",
    "# reshape input para [amostras, passos temporais, info]\n",
    "trainX = np.reshape(trainX, (trainX.shape[0], trainX.shape[1], 1))\n",
    "testX = np.reshape(testX, (testX.shape[0], testX.shape[1], 1))\n",
    "\n",
    "print(trainX.shape,trainY.shape)"
   ]
  },
  {
   "cell_type": "code",
   "execution_count": 55,
   "metadata": {},
   "outputs": [
    {
     "name": "stdout",
     "output_type": "stream",
     "text": [
      "Model: \"sequential_12\"\n",
      "_________________________________________________________________\n",
      "Layer (type)                 Output Shape              Param #   \n",
      "=================================================================\n",
      "bidirectional_3 (Bidirection (1, 3, 64)                8704      \n",
      "_________________________________________________________________\n",
      "bidirectional_4 (Bidirection (1, 16)                   4672      \n",
      "_________________________________________________________________\n",
      "dense_12 (Dense)             (1, 1)                    17        \n",
      "=================================================================\n",
      "Total params: 13,393\n",
      "Trainable params: 13,393\n",
      "Non-trainable params: 0\n",
      "_________________________________________________________________\n"
     ]
    }
   ],
   "source": [
    "batch_size = 1\n",
    "model = Sequential()\n",
    "model.add(Bidirectional(LSTM(32, return_sequences=True, stateful=False), batch_input_shape=(batch_size, look_back, 1)))\n",
    "model.add(Bidirectional(LSTM(8, stateful=False)))\n",
    "model.add(Dense(1))\n",
    "\n",
    "model.compile(loss='mean_squared_error', optimizer='adam')\n",
    "\n",
    "model.summary()"
   ]
  },
  {
   "cell_type": "code",
   "execution_count": 56,
   "metadata": {},
   "outputs": [
    {
     "name": "stdout",
     "output_type": "stream",
     "text": [
      "Epoch 1/70\n",
      "92/92 [==============================] - 6s 64ms/step - loss: 0.0154\n",
      "Epoch 2/70\n",
      "92/92 [==============================] - 1s 11ms/step - loss: 0.0058\n",
      "Epoch 3/70\n",
      "92/92 [==============================] - 1s 10ms/step - loss: 0.0041\n",
      "Epoch 4/70\n",
      "92/92 [==============================] - 1s 11ms/step - loss: 0.0040: \n",
      "Epoch 5/70\n",
      "92/92 [==============================] - 1s 10ms/step - loss: 0.0043\n",
      "Epoch 6/70\n",
      "92/92 [==============================] - 1s 10ms/step - loss: 0.0040\n",
      "Epoch 7/70\n",
      "92/92 [==============================] - 1s 9ms/step - loss: 0.0038\n",
      "Epoch 8/70\n",
      "92/92 [==============================] - 1s 10ms/step - loss: 0.0039\n",
      "Epoch 9/70\n",
      "92/92 [==============================] - 1s 10ms/step - loss: 0.0036\n",
      "Epoch 10/70\n",
      "92/92 [==============================] - 1s 15ms/step - loss: 0.0035: 0s -\n",
      "Epoch 11/70\n",
      "92/92 [==============================] - 1s 11ms/step - loss: 0.0035\n",
      "Epoch 12/70\n",
      "92/92 [==============================] - 1s 13ms/step - loss: 0.0037: 0s - lo\n",
      "Epoch 13/70\n",
      "92/92 [==============================] - 1s 11ms/step - loss: 0.0032\n",
      "Epoch 14/70\n",
      "92/92 [==============================] - 1s 13ms/step - loss: 0.0031\n",
      "Epoch 15/70\n",
      "92/92 [==============================] - 1s 11ms/step - loss: 0.0034A: 0s - \n",
      "Epoch 16/70\n",
      "92/92 [==============================] - 1s 11ms/step - loss: 0.0033\n",
      "Epoch 17/70\n",
      "92/92 [==============================] - 1s 11ms/step - loss: 0.0031\n",
      "Epoch 18/70\n",
      "92/92 [==============================] - 1s 11ms/step - loss: 0.0031\n",
      "Epoch 19/70\n",
      "92/92 [==============================] - 2s 18ms/step - loss: 0.0030\n",
      "Epoch 20/70\n",
      "92/92 [==============================] - 1s 12ms/step - loss: 0.0036\n",
      "Epoch 21/70\n",
      "92/92 [==============================] - 1s 13ms/step - loss: 0.0029\n",
      "Epoch 22/70\n",
      "92/92 [==============================] - 1s 9ms/step - loss: 0.0034\n",
      "Epoch 23/70\n",
      "92/92 [==============================] - 1s 14ms/step - loss: 0.0029\n",
      "Epoch 24/70\n",
      "92/92 [==============================] - 1s 13ms/step - loss: 0.0031\n",
      "Epoch 25/70\n",
      "92/92 [==============================] - 1s 15ms/step - loss: 0.0032\n",
      "Epoch 26/70\n",
      "92/92 [==============================] - 1s 10ms/step - loss: 0.0028\n",
      "Epoch 27/70\n",
      "92/92 [==============================] - 1s 11ms/step - loss: 0.0027\n",
      "Epoch 28/70\n",
      "92/92 [==============================] - 1s 11ms/step - loss: 0.0028\n",
      "Epoch 29/70\n",
      "92/92 [==============================] - 1s 10ms/step - loss: 0.0029\n",
      "Epoch 30/70\n",
      "92/92 [==============================] - 1s 10ms/step - loss: 0.0029\n",
      "Epoch 31/70\n",
      "92/92 [==============================] - 1s 11ms/step - loss: 0.0026\n",
      "Epoch 32/70\n",
      "92/92 [==============================] - 1s 12ms/step - loss: 0.0029\n",
      "Epoch 33/70\n",
      "92/92 [==============================] - 1s 11ms/step - loss: 0.0029\n",
      "Epoch 34/70\n",
      "92/92 [==============================] - 1s 10ms/step - loss: 0.0029\n",
      "Epoch 35/70\n",
      "92/92 [==============================] - 1s 10ms/step - loss: 0.0025\n",
      "Epoch 36/70\n",
      "92/92 [==============================] - 1s 11ms/step - loss: 0.0026\n",
      "Epoch 37/70\n",
      "92/92 [==============================] - 1s 11ms/step - loss: 0.0029\n",
      "Epoch 38/70\n",
      "92/92 [==============================] - 1s 10ms/step - loss: 0.0025\n",
      "Epoch 39/70\n",
      "92/92 [==============================] - 1s 11ms/step - loss: 0.0025\n",
      "Epoch 40/70\n",
      "92/92 [==============================] - 1s 10ms/step - loss: 0.0024\n",
      "Epoch 41/70\n",
      "92/92 [==============================] - 1s 8ms/step - loss: 0.0028- ETA: 0s - los\n",
      "Epoch 42/70\n",
      "92/92 [==============================] - 1s 12ms/step - loss: 0.0023\n",
      "Epoch 43/70\n",
      "92/92 [==============================] - 1s 12ms/step - loss: 0.0028\n",
      "Epoch 44/70\n",
      "92/92 [==============================] - 1s 10ms/step - loss: 0.0024\n",
      "Epoch 45/70\n",
      "92/92 [==============================] - 1s 10ms/step - loss: 0.0024\n",
      "Epoch 46/70\n",
      "92/92 [==============================] - 1s 13ms/step - loss: 0.0022: 0s \n",
      "Epoch 47/70\n",
      "92/92 [==============================] - 1s 11ms/step - loss: 0.0023\n",
      "Epoch 48/70\n",
      "92/92 [==============================] - 1s 12ms/step - loss: 0.0023\n",
      "Epoch 49/70\n",
      "92/92 [==============================] - 1s 10ms/step - loss: 0.0025\n",
      "Epoch 50/70\n",
      "92/92 [==============================] - 1s 10ms/step - loss: 0.0021\n",
      "Epoch 51/70\n",
      "92/92 [==============================] - 1s 11ms/step - loss: 0.0023\n",
      "Epoch 52/70\n",
      "92/92 [==============================] - 1s 11ms/step - loss: 0.0023\n",
      "Epoch 53/70\n",
      "92/92 [==============================] - 1s 10ms/step - loss: 0.0022\n",
      "Epoch 54/70\n",
      "92/92 [==============================] - 1s 12ms/step - loss: 0.0021\n",
      "Epoch 55/70\n",
      "92/92 [==============================] - 1s 11ms/step - loss: 0.0022\n",
      "Epoch 56/70\n",
      "92/92 [==============================] - 1s 13ms/step - loss: 0.0023\n",
      "Epoch 57/70\n",
      "92/92 [==============================] - 1s 11ms/step - loss: 0.0021\n",
      "Epoch 58/70\n",
      "92/92 [==============================] - 1s 12ms/step - loss: 0.0022\n",
      "Epoch 59/70\n",
      "92/92 [==============================] - 1s 11ms/step - loss: 0.0021\n",
      "Epoch 60/70\n",
      "92/92 [==============================] - 1s 10ms/step - loss: 0.0022\n",
      "Epoch 61/70\n",
      "92/92 [==============================] - 1s 10ms/step - loss: 0.0020\n",
      "Epoch 62/70\n",
      "92/92 [==============================] - 1s 10ms/step - loss: 0.0021\n",
      "Epoch 63/70\n",
      "92/92 [==============================] - 1s 10ms/step - loss: 0.0021\n",
      "Epoch 64/70\n",
      "92/92 [==============================] - 1s 10ms/step - loss: 0.0020\n",
      "Epoch 65/70\n",
      "92/92 [==============================] - 1s 10ms/step - loss: 0.0020\n",
      "Epoch 66/70\n",
      "92/92 [==============================] - 1s 11ms/step - loss: 0.0020\n",
      "Epoch 67/70\n",
      "92/92 [==============================] - 1s 11ms/step - loss: 0.0021\n",
      "Epoch 68/70\n",
      "92/92 [==============================] - 1s 11ms/step - loss: 0.0020\n",
      "Epoch 69/70\n",
      "92/92 [==============================] - 1s 11ms/step - loss: 0.0020\n",
      "Epoch 70/70\n",
      "92/92 [==============================] - 1s 10ms/step - loss: 0.0018\n"
     ]
    },
    {
     "data": {
      "text/plain": [
       "<keras.callbacks.callbacks.History at 0x12c3db43608>"
      ]
     },
     "execution_count": 56,
     "metadata": {},
     "output_type": "execute_result"
    }
   ],
   "source": [
    "model.fit(trainX, trainY, epochs=70, batch_size=batch_size, verbose=1, shuffle=True)"
   ]
  },
  {
   "cell_type": "code",
   "execution_count": 57,
   "metadata": {},
   "outputs": [
    {
     "name": "stdout",
     "output_type": "stream",
     "text": [
      "Train error: 23.28 RMSE\n",
      "Test error: 41.93 RMSE\n"
     ]
    }
   ],
   "source": [
    "# fazer as previsões\n",
    "trainPredict = model.predict(trainX, batch_size=batch_size)\n",
    "testPredict = model.predict(testX, batch_size=batch_size)\n",
    "\n",
    "# reconverter os valores pra algo inteligível\n",
    "trainPredict = scaler.inverse_transform(trainPredict)\n",
    "trainY = scaler.inverse_transform([trainY])\n",
    "testPredict = scaler.inverse_transform(testPredict)\n",
    "testY = scaler.inverse_transform([testY])\n",
    "\n",
    "# calcular a raiz do erro médio quadrado\n",
    "trainScore = math.sqrt(mean_squared_error(trainY[0], trainPredict[:,0]))\n",
    "print('Train error: %.2f RMSE' % (trainScore))\n",
    "testScore = math.sqrt(mean_squared_error(testY[0], testPredict[:,0]))\n",
    "print('Test error: %.2f RMSE' % (testScore))"
   ]
  },
  {
   "cell_type": "code",
   "execution_count": 58,
   "metadata": {},
   "outputs": [
    {
     "data": {
      "image/png": "[encoded data removed]",
      "text/plain": [
       "<Figure size 432x288 with 1 Axes>"
      ]
     },
     "metadata": {
      "needs_background": "light"
     },
     "output_type": "display_data"
    }
   ],
   "source": [
    "# ajustar as coisas pra plotar\n",
    "trainPredictPlot = np.empty_like(dataset)\n",
    "trainPredictPlot[:, :] = np.nan\n",
    "trainPredictPlot[look_back:len(trainPredict)+look_back, :] = trainPredict\n",
    "\n",
    "testPredictPlot = np.empty_like(dataset)\n",
    "testPredictPlot[:, :] = np.nan\n",
    "testPredictPlot[len(trainPredict)+(look_back*2)+1:len(dataset)-1, :] = testPredict\n",
    "\n",
    "# plot\n",
    "plt.plot(scaler.inverse_transform(dataset))\n",
    "plt.plot(trainPredictPlot)\n",
    "plt.plot(testPredictPlot)\n",
    "plt.show()"
   ]
  },
  {
   "cell_type": "markdown",
   "metadata": {},
   "source": [
    "# Time-Distributed\n",
    "\n",
    "O wrapper Time-Distributed do Keras permite criar uma camada para cada fatia temporal do input. COmbinando isso com camadas densas resulta em um modelo profundo capaz de fazer mais assosciações e obter melhor precisão."
   ]
  },
  {
   "cell_type": "code",
   "execution_count": 99,
   "metadata": {},
   "outputs": [
    {
     "name": "stdout",
     "output_type": "stream",
     "text": [
      "(92, 3, 1) (92,)\n"
     ]
    }
   ],
   "source": [
    "# reshape X=t and Y=t+1\n",
    "look_back = 3\n",
    "trainX, trainY = create_dataset(train, look_back)\n",
    "testX, testY = create_dataset(test, look_back)\n",
    "\n",
    "# reshape input para [amostras, passos temporais, info]\n",
    "trainX = np.reshape(trainX, (trainX.shape[0], trainX.shape[1], 1))\n",
    "testX = np.reshape(testX, (testX.shape[0], testX.shape[1], 1))\n",
    "\n",
    "print(trainX.shape,trainY.shape)"
   ]
  },
  {
   "cell_type": "code",
   "execution_count": 100,
   "metadata": {},
   "outputs": [
    {
     "name": "stdout",
     "output_type": "stream",
     "text": [
      "Model: \"sequential_24\"\n",
      "_________________________________________________________________\n",
      "Layer (type)                 Output Shape              Param #   \n",
      "=================================================================\n",
      "bidirectional_17 (Bidirectio (1, 3, 64)                8704      \n",
      "_________________________________________________________________\n",
      "time_distributed_12 (TimeDis (1, 3, 16)                1040      \n",
      "_________________________________________________________________\n",
      "flatten_11 (Flatten)         (1, 48)                   0         \n",
      "_________________________________________________________________\n",
      "dense_44 (Dense)             (1, 1)                    49        \n",
      "=================================================================\n",
      "Total params: 9,793\n",
      "Trainable params: 9,793\n",
      "Non-trainable params: 0\n",
      "_________________________________________________________________\n"
     ]
    }
   ],
   "source": [
    "batch_size = 1\n",
    "model = Sequential()\n",
    "model.add(Bidirectional(LSTM(32, return_sequences=True, stateful=True), batch_input_shape=(batch_size, look_back, 1)))\n",
    "model.add(TimeDistributed(Dense(16)))\n",
    "model.add(Flatten())\n",
    "model.add(Dense(1))\n",
    "\n",
    "model.compile(loss='mean_squared_error', optimizer='adam')\n",
    "\n",
    "model.summary()"
   ]
  },
  {
   "cell_type": "code",
   "execution_count": 101,
   "metadata": {
    "scrolled": true
   },
   "outputs": [
    {
     "name": "stdout",
     "output_type": "stream",
     "text": [
      "Epoch 1/1\n",
      "92/92 [==============================] - 7s 78ms/step - loss: 0.0064\n",
      "Epoch 1/1\n",
      "92/92 [==============================] - 1s 10ms/step - loss: 0.0084\n",
      "Epoch 1/1\n",
      "92/92 [==============================] - 1s 9ms/step - loss: 0.0074\n",
      "Epoch 1/1\n",
      "92/92 [==============================] - 1s 8ms/step - loss: 0.0057\n",
      "Epoch 1/1\n",
      "92/92 [==============================] - 1s 9ms/step - loss: 0.0062\n",
      "Epoch 1/1\n",
      "92/92 [==============================] - 1s 10ms/step - loss: 0.0045\n",
      "Epoch 1/1\n",
      "92/92 [==============================] - 1s 10ms/step - loss: 0.0053\n",
      "Epoch 1/1\n",
      "92/92 [==============================] - 1s 10ms/step - loss: 0.0049\n",
      "Epoch 1/1\n",
      "92/92 [==============================] - 1s 10ms/step - loss: 0.0054\n",
      "Epoch 1/1\n",
      "92/92 [==============================] - 1s 9ms/step - loss: 0.0043\n",
      "Epoch 1/1\n",
      "92/92 [==============================] - 1s 8ms/step - loss: 0.0042\n",
      "Epoch 1/1\n",
      "92/92 [==============================] - 1s 9ms/step - loss: 0.0037\n",
      "Epoch 1/1\n",
      "92/92 [==============================] - 1s 8ms/step - loss: 0.0033\n",
      "Epoch 1/1\n",
      "92/92 [==============================] - 1s 10ms/step - loss: 0.0030\n",
      "Epoch 1/1\n",
      "92/92 [==============================] - 1s 9ms/step - loss: 0.0026\n",
      "Epoch 1/1\n",
      "92/92 [==============================] - 1s 10ms/step - loss: 0.0024\n",
      "Epoch 1/1\n",
      "92/92 [==============================] - 1s 10ms/step - loss: 0.0022\n",
      "Epoch 1/1\n",
      "92/92 [==============================] - 1s 12ms/step - loss: 0.0020\n",
      "Epoch 1/1\n",
      "92/92 [==============================] - 1s 10ms/step - loss: 0.0020\n",
      "Epoch 1/1\n",
      "92/92 [==============================] - 1s 10ms/step - loss: 0.0020\n",
      "Epoch 1/1\n",
      "92/92 [==============================] - 1s 9ms/step - loss: 0.0020\n",
      "Epoch 1/1\n",
      "92/92 [==============================] - 1s 9ms/step - loss: 0.0020\n",
      "Epoch 1/1\n",
      "92/92 [==============================] - 1s 8ms/step - loss: 0.0020\n",
      "Epoch 1/1\n",
      "92/92 [==============================] - 1s 8ms/step - loss: 0.0020\n",
      "Epoch 1/1\n",
      "92/92 [==============================] - 1s 9ms/step - loss: 0.0019\n",
      "Epoch 1/1\n",
      "92/92 [==============================] - 1s 10ms/step - loss: 0.0019\n",
      "Epoch 1/1\n",
      "92/92 [==============================] - 1s 10ms/step - loss: 0.0019\n",
      "Epoch 1/1\n",
      "92/92 [==============================] - 1s 10ms/step - loss: 0.0019\n",
      "Epoch 1/1\n",
      "92/92 [==============================] - 1s 10ms/step - loss: 0.0019\n",
      "Epoch 1/1\n",
      "92/92 [==============================] - 1s 10ms/step - loss: 0.0019\n",
      "Epoch 1/1\n",
      "92/92 [==============================] - 1s 10ms/step - loss: 0.0019\n",
      "Epoch 1/1\n",
      "92/92 [==============================] - 1s 10ms/step - loss: 0.0019\n",
      "Epoch 1/1\n",
      "92/92 [==============================] - 1s 10ms/step - loss: 0.0019\n",
      "Epoch 1/1\n",
      "92/92 [==============================] - 1s 9ms/step - loss: 0.0019\n",
      "Epoch 1/1\n",
      "92/92 [==============================] - 1s 7ms/step - loss: 0.0019 ETA: 0s - lo\n",
      "Epoch 1/1\n",
      "92/92 [==============================] - 1s 9ms/step - loss: 0.0019\n",
      "Epoch 1/1\n",
      "92/92 [==============================] - 1s 9ms/step - loss: 0.0019\n",
      "Epoch 1/1\n",
      "92/92 [==============================] - 1s 8ms/step - loss: 0.0019\n",
      "Epoch 1/1\n",
      "92/92 [==============================] - 1s 10ms/step - loss: 0.0018\n",
      "Epoch 1/1\n",
      "92/92 [==============================] - 1s 10ms/step - loss: 0.0018\n",
      "Epoch 1/1\n",
      "92/92 [==============================] - 1s 10ms/step - loss: 0.0018\n",
      "Epoch 1/1\n",
      "92/92 [==============================] - 1s 10ms/step - loss: 0.0018\n",
      "Epoch 1/1\n",
      "92/92 [==============================] - 1s 10ms/step - loss: 0.0018\n",
      "Epoch 1/1\n",
      "92/92 [==============================] - 1s 8ms/step - loss: 0.0018\n",
      "Epoch 1/1\n",
      "92/92 [==============================] - 1s 8ms/step - loss: 0.0018\n",
      "Epoch 1/1\n",
      "92/92 [==============================] - 1s 8ms/step - loss: 0.0018\n",
      "Epoch 1/1\n",
      "92/92 [==============================] - 1s 9ms/step - loss: 0.0018\n",
      "Epoch 1/1\n",
      "92/92 [==============================] - 1s 9ms/step - loss: 0.0017\n",
      "Epoch 1/1\n",
      "92/92 [==============================] - 1s 12ms/step - loss: 0.0017: 0s - lo\n",
      "Epoch 1/1\n",
      "92/92 [==============================] - 1s 10ms/step - loss: 0.0018\n"
     ]
    }
   ],
   "source": [
    "for i in range(50):\n",
    "    model.fit(trainX, trainY, epochs=1, batch_size=batch_size, verbose=1, shuffle=False)\n",
    "    model.reset_states()"
   ]
  },
  {
   "cell_type": "code",
   "execution_count": 102,
   "metadata": {},
   "outputs": [
    {
     "name": "stdout",
     "output_type": "stream",
     "text": [
      "Train error: 25.82 RMSE\n",
      "Test error: 49.60 RMSE\n"
     ]
    }
   ],
   "source": [
    "# fazer as previsões\n",
    "trainPredict = model.predict(trainX, batch_size=batch_size)\n",
    "model.reset_states()\n",
    "testPredict = model.predict(testX, batch_size=batch_size)\n",
    "model.reset_states()\n",
    "\n",
    "# reconverter os valores pra algo inteligível\n",
    "trainPredict = scaler.inverse_transform(trainPredict)\n",
    "trainY = scaler.inverse_transform([trainY])\n",
    "testPredict = scaler.inverse_transform(testPredict)\n",
    "testY = scaler.inverse_transform([testY])\n",
    "\n",
    "# calcular a raiz do erro médio quadrado\n",
    "trainScore = math.sqrt(mean_squared_error(trainY[0], trainPredict[:,0]))\n",
    "print('Train error: %.2f RMSE' % (trainScore))\n",
    "testScore = math.sqrt(mean_squared_error(testY[0], testPredict[:,0]))\n",
    "print('Test error: %.2f RMSE' % (testScore))"
   ]
  },
  {
   "cell_type": "code",
   "execution_count": 103,
   "metadata": {},
   "outputs": [
    {
     "data": {
      "image/png": "[encoded data removed]",
      "text/plain": [
       "<Figure size 432x288 with 1 Axes>"
      ]
     },
     "metadata": {
      "needs_background": "light"
     },
     "output_type": "display_data"
    }
   ],
   "source": [
    "# ajustar as coisas pra plotar\n",
    "trainPredictPlot = np.empty_like(dataset)\n",
    "trainPredictPlot[:, :] = np.nan\n",
    "trainPredictPlot[look_back:len(trainPredict)+look_back, :] = trainPredict\n",
    "\n",
    "testPredictPlot = np.empty_like(dataset)\n",
    "testPredictPlot[:, :] = np.nan\n",
    "testPredictPlot[len(trainPredict)+(look_back*2)+1:len(dataset)-1, :] = testPredict\n",
    "\n",
    "# plot\n",
    "plt.plot(scaler.inverse_transform(dataset))\n",
    "plt.plot(trainPredictPlot)\n",
    "plt.plot(testPredictPlot)\n",
    "plt.show()"
   ]
  },
  {
   "cell_type": "markdown",
   "metadata": {},
   "source": [
    "# Previsão de longo prazo (em construção)\n",
    "\n",
    "Agora que vimos diversas técnicas de implementação, vale a pena lembrar que a redes que utilizam LSTM tomam uma série de estados passados para prever o próximo estado imediato.\n",
    "\n",
    "A seguir, vamos tentar fazer previsões de longo prazo utilizando sucessivas previsões da mesma rede."
   ]
  },
  {
   "cell_type": "code",
   "execution_count": 156,
   "metadata": {},
   "outputs": [
    {
     "name": "stdout",
     "output_type": "stream",
     "text": [
      "(92, 3, 1) (92,) (44,)\n"
     ]
    }
   ],
   "source": [
    "# reshape X=t and Y=t+1\n",
    "look_back = 3\n",
    "trainX, trainY = create_dataset(train, look_back)\n",
    "testX, testY = create_dataset(test, look_back)\n",
    "\n",
    "# reshape input para [amostras, passos temporais, info]\n",
    "trainX = np.reshape(trainX, (trainX.shape[0], trainX.shape[1], 1))\n",
    "testX = np.reshape(testX, (testX.shape[0], testX.shape[1], 1))\n",
    "\n",
    "print(trainX.shape, trainY.shape, testY.shape)"
   ]
  },
  {
   "cell_type": "code",
   "execution_count": 190,
   "metadata": {
    "scrolled": true
   },
   "outputs": [
    {
     "name": "stdout",
     "output_type": "stream",
     "text": [
      "Model: \"sequential_28\"\n",
      "_________________________________________________________________\n",
      "Layer (type)                 Output Shape              Param #   \n",
      "=================================================================\n",
      "lstm_32 (LSTM)               (1, 32)                   4352      \n",
      "_________________________________________________________________\n",
      "dense_47 (Dense)             (1, 1)                    33        \n",
      "=================================================================\n",
      "Total params: 4,385\n",
      "Trainable params: 4,385\n",
      "Non-trainable params: 0\n",
      "_________________________________________________________________\n"
     ]
    }
   ],
   "source": [
    "batch_size = 1\n",
    "model = Sequential()\n",
    "model.add(LSTM(32, stateful=True, batch_input_shape=(batch_size, look_back, 1)))\n",
    "model.add(Dense(1))\n",
    "model.compile(loss='mean_squared_error', optimizer='adam')\n",
    "\n",
    "model.summary()"
   ]
  },
  {
   "cell_type": "code",
   "execution_count": 191,
   "metadata": {
    "scrolled": true
   },
   "outputs": [
    {
     "name": "stdout",
     "output_type": "stream",
     "text": [
      "Epoch 1/1\n",
      "92/92 [==============================] - 7s 78ms/step - loss: 0.0052\n",
      "Epoch 1/1\n",
      "92/92 [==============================] - 1s 9ms/step - loss: 0.0091\n",
      "Epoch 1/1\n",
      "92/92 [==============================] - 1s 8ms/step - loss: 0.0075A: 0s - lo\n",
      "Epoch 1/1\n",
      "92/92 [==============================] - 1s 7ms/step - loss: 0.0066\n",
      "Epoch 1/1\n",
      "92/92 [==============================] - 1s 8ms/step - loss: 0.0060\n",
      "Epoch 1/1\n",
      "92/92 [==============================] - 1s 8ms/step - loss: 0.0056\n",
      "Epoch 1/1\n",
      "92/92 [==============================] - 1s 8ms/step - loss: 0.0053\n",
      "Epoch 1/1\n",
      "92/92 [==============================] - 1s 8ms/step - loss: 0.0051\n",
      "Epoch 1/1\n",
      "92/92 [==============================] - 1s 7ms/step - loss: 0.0049\n",
      "Epoch 1/1\n",
      "92/92 [==============================] - 1s 6ms/step - loss: 0.0047\n",
      "Epoch 1/1\n",
      "92/92 [==============================] - 1s 6ms/step - loss: 0.0045\n",
      "Epoch 1/1\n",
      "92/92 [==============================] - 1s 6ms/step - loss: 0.0044\n",
      "Epoch 1/1\n",
      "92/92 [==============================] - 1s 6ms/step - loss: 0.0042\n",
      "Epoch 1/1\n",
      "92/92 [==============================] - 1s 6ms/step - loss: 0.0041\n",
      "Epoch 1/1\n",
      "92/92 [==============================] - 1s 7ms/step - loss: 0.0039\n",
      "Epoch 1/1\n",
      "92/92 [==============================] - 1s 7ms/step - loss: 0.0037\n",
      "Epoch 1/1\n",
      "92/92 [==============================] - 1s 7ms/step - loss: 0.0035\n",
      "Epoch 1/1\n",
      "92/92 [==============================] - 1s 7ms/step - loss: 0.0033\n",
      "Epoch 1/1\n",
      "92/92 [==============================] - 1s 8ms/step - loss: 0.0030\n",
      "Epoch 1/1\n",
      "92/92 [==============================] - 1s 7ms/step - loss: 0.0028\n",
      "Epoch 1/1\n",
      "92/92 [==============================] - 1s 8ms/step - loss: 0.0024\n",
      "Epoch 1/1\n",
      "92/92 [==============================] - 1s 8ms/step - loss: 0.0021\n",
      "Epoch 1/1\n",
      "92/92 [==============================] - 1s 9ms/step - loss: 0.0019A: 0s - loss\n",
      "Epoch 1/1\n",
      "92/92 [==============================] - ETA: 0s - loss: 0.001 - 1s 7ms/step - loss: 0.0017\n",
      "Epoch 1/1\n",
      "92/92 [==============================] - 1s 6ms/step - loss: 0.0017\n",
      "Epoch 1/1\n",
      "92/92 [==============================] - 1s 9ms/step - loss: 0.0017\n",
      "Epoch 1/1\n",
      "92/92 [==============================] - 1s 9ms/step - loss: 0.0017- ETA: 0s -\n",
      "Epoch 1/1\n",
      "92/92 [==============================] - 1s 8ms/step - loss: 0.0017\n",
      "Epoch 1/1\n",
      "92/92 [==============================] - 1s 8ms/step - loss: 0.0017\n",
      "Epoch 1/1\n",
      "92/92 [==============================] - 1s 8ms/step - loss: 0.0016A: 0s - loss: 0.0\n",
      "Epoch 1/1\n",
      "92/92 [==============================] - 1s 7ms/step - loss: 0.0016\n",
      "Epoch 1/1\n",
      "92/92 [==============================] - 1s 8ms/step - loss: 0.0016\n",
      "Epoch 1/1\n",
      "92/92 [==============================] - 1s 8ms/step - loss: 0.0015\n",
      "Epoch 1/1\n",
      "92/92 [==============================] - 1s 8ms/step - loss: 0.0015\n",
      "Epoch 1/1\n",
      "92/92 [==============================] - 1s 7ms/step - loss: 0.0015\n",
      "Epoch 1/1\n",
      "92/92 [==============================] - 1s 8ms/step - loss: 0.0015\n",
      "Epoch 1/1\n",
      "92/92 [==============================] - 1s 8ms/step - loss: 0.0015\n",
      "Epoch 1/1\n",
      "92/92 [==============================] - 1s 7ms/step - loss: 0.0015\n",
      "Epoch 1/1\n",
      "92/92 [==============================] - 1s 6ms/step - loss: 0.0016\n",
      "Epoch 1/1\n",
      "92/92 [==============================] - 1s 7ms/step - loss: 0.0016\n",
      "Epoch 1/1\n",
      "92/92 [==============================] - 1s 7ms/step - loss: 0.0014\n",
      "Epoch 1/1\n",
      "92/92 [==============================] - 1s 10ms/step - loss: 0.0015\n",
      "Epoch 1/1\n",
      "92/92 [==============================] - 1s 7ms/step - loss: 0.0014\n",
      "Epoch 1/1\n",
      "92/92 [==============================] - 1s 9ms/step - loss: 0.0014\n",
      "Epoch 1/1\n",
      "92/92 [==============================] - 1s 8ms/step - loss: 0.0013\n",
      "Epoch 1/1\n",
      "92/92 [==============================] - 1s 9ms/step - loss: 0.0013\n",
      "Epoch 1/1\n",
      "92/92 [==============================] - 1s 8ms/step - loss: 0.0016\n",
      "Epoch 1/1\n",
      "92/92 [==============================] - 1s 8ms/step - loss: 0.0017\n",
      "Epoch 1/1\n",
      "92/92 [==============================] - 1s 7ms/step - loss: 0.0015\n",
      "Epoch 1/1\n",
      "92/92 [==============================] - 1s 9ms/step - loss: 0.0012\n"
     ]
    }
   ],
   "source": [
    "for i in range(50):\n",
    "    model.fit(trainX, trainY, epochs=1, batch_size=batch_size, verbose=1, shuffle=False)\n",
    "    model.reset_states()"
   ]
  },
  {
   "cell_type": "code",
   "execution_count": 287,
   "metadata": {},
   "outputs": [
    {
     "name": "stdout",
     "output_type": "stream",
     "text": [
      "114 (1, 44)\n"
     ]
    }
   ],
   "source": [
    "model.reset_states()\n",
    "testPredict = model.predict(testX, batch_size=batch_size)\n",
    "\n",
    "preds = []\n",
    "for i in range(len(testX)):\n",
    "    preds.append(testPredict[i][0])\n",
    "    \n",
    "    \n",
    "steps = 70 # nª de passos no futuro\n",
    "r = 0 # introduzir aleatoriedade\n",
    "for i in range(steps):\n",
    "    basis = np.zeros((1,look_back,1))\n",
    "    basis[0,:,0] = preds[-look_back:]\n",
    "    \n",
    "    r += np.random.rand()/steps/10\n",
    "    basis[0,-1,0] += r\n",
    "    \n",
    "    n_pred = model.predict(basis, batch_size=batch_size)\n",
    "    preds.append(n_pred[0][0])\n",
    "\n",
    "preds = np.array(preds)\n",
    "preds = np.reshape(preds, (len(preds),1))\n",
    "\n",
    "preds = scaler.inverse_transform(preds)\n",
    "test_v = scaler.inverse_transform([testY])\n",
    "print(len(preds), test_v.shape)"
   ]
  },
  {
   "cell_type": "code",
   "execution_count": 288,
   "metadata": {},
   "outputs": [
    {
     "data": {
      "image/png": "[encoded data removed]",
      "text/plain": [
       "<Figure size 432x288 with 1 Axes>"
      ]
     },
     "metadata": {
      "needs_background": "light"
     },
     "output_type": "display_data"
    }
   ],
   "source": [
    "testPredictPlot = np.empty_like(preds)\n",
    "testPredictPlot[:, :] = np.nan\n",
    "testPredictPlot[:len(preds)+look_back, :] = preds\n",
    "\n",
    "# plot\n",
    "plt.plot(np.transpose(test_v), c='b')\n",
    "plt.plot(testPredictPlot, c='lime')\n",
    "plt.show()"
   ]
  },
  {
   "cell_type": "code",
   "execution_count": null,
   "metadata": {},
   "outputs": [],
   "source": []
  },
  {
   "cell_type": "code",
   "execution_count": null,
   "metadata": {},
   "outputs": [],
   "source": []
  }
 ],
 "metadata": {
  "kernelspec": {
   "display_name": "Python 3",
   "language": "python",
   "name": "python3"
  },
  "language_info": {
   "codemirror_mode": {
    "name": "ipython",
    "version": 3
   },
   "file_extension": ".py",
   "mimetype": "text/x-python",
   "name": "python",
   "nbconvert_exporter": "python",
   "pygments_lexer": "ipython3",
   "version": "3.7.6"
  }
 },
 "nbformat": 4,
 "nbformat_minor": 4
}
