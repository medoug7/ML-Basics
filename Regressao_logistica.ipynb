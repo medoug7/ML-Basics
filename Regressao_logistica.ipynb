{
 "cells": [
  {
   "cell_type": "code",
   "execution_count": 1,
   "metadata": {},
   "outputs": [],
   "source": [
    "import numpy as np\n",
    "from matplotlib import pyplot as pl"
   ]
  },
  {
   "cell_type": "markdown",
   "metadata": {},
   "source": [
    "# Regressão Logística para classificação binária"
   ]
  },
  {
   "cell_type": "markdown",
   "metadata": {},
   "source": [
    "Este método utiliza do conceito de regressão para fazer algo parecido com o que faz o algoritmo do Perceptron, mas ao invés de apenas retornar as classes de cada ponto, ele também nos dirá a probabilidade de um ponto pertencer a cada classe."
   ]
  },
  {
   "cell_type": "markdown",
   "metadata": {},
   "source": [
    "Input: $\\vec{x_{i}}=(x_{1},x_{2},...,x_{d})$\n",
    "\n",
    "Fazendo: $x_{i}=(1,\\vec{x_{i}})$  ,  \n",
    "        $w=(w_{0},w_{1},...,w_{d})$  ,   \n",
    "        $\\sigma(x)=\\frac{1}{1+e^x}$.\n",
    "        \n",
    "A função de ativação fica: $h=\\sigma(\\vec w\\cdot \\vec x)$\n",
    "        \n",
    "Chutamos os pesos: $\\vec{w_{0}}$\n",
    "\n",
    "A função de custo será: $\\frac{1}{N}\\Sigma_{n} (y_{n}Log(h)+(1-y_n)Log(1-h))$\n",
    "\n",
    "Então atualizamos os pesos usando a derivada da função de custo: $dw_{j}=\\Sigma_{n}  (y_{n}-h_{n}) x_{j}$"
   ]
  },
  {
   "cell_type": "code",
   "execution_count": 2,
   "metadata": {},
   "outputs": [],
   "source": [
    "class grad:\n",
    "    \n",
    "    def __init__(self,x,y):\n",
    "        # Define as dimensões do input\n",
    "        if len(x.shape) == 1:\n",
    "            self.dim = 1\n",
    "        else:\n",
    "            self.dim = x.shape[1]\n",
    "        self.n = len(y)\n",
    "        \n",
    "        # vetor input estendido\n",
    "        X = np.zeros((self.n,self.dim+1))\n",
    "        for i in range (self.n):\n",
    "            X[i] = np.concatenate((1,x[i]),axis=None)\n",
    "        self.X = X.T\n",
    "        self.x = x\n",
    "        self.Y = y\n",
    "        \n",
    "    # Função sigmoide usada na ativação\n",
    "    def sigmo(self,x):\n",
    "        return 1/(1+np.exp(-x))\n",
    "    \n",
    "    # função custo\n",
    "    def cost(self,w):\n",
    "        Y = self.Y\n",
    "        N = self.n\n",
    "        A = self.sigmo(np.dot(w.T,self.X))\n",
    "        return -np.sum(Y*np.log(A)+(1-Y)*np.log(1-A))/N\n",
    "    \n",
    "    \n",
    "    # algoritimo descida gradiente\n",
    "    # (h=taxa de aprend. v=nº iterações)\n",
    "    def desce(self,h,v):\n",
    "        X = self.X\n",
    "        Y = self.Y\n",
    "        N = self.n\n",
    "        w = np.random.rand(self.dim+1)\n",
    "        # vetor pra guardar info de como o custo evolui com o tempo\n",
    "        c = np.zeros(v+1)\n",
    "        \n",
    "        for i in range (v):\n",
    "            c[i] = self.cost(w)\n",
    "            \n",
    "            dw = np.zeros(len(w))\n",
    "            Z = np.dot(w.T,X)\n",
    "            A = Y - self.sigmo(Z)\n",
    "            \n",
    "            dw = np.dot(X,A.T)\n",
    "            \n",
    "            w = w + h*dw\n",
    "            C = self.cost(w)\n",
    "            \n",
    "           # checa se a função custo está diminuindo\n",
    "            if c[i] > C:\n",
    "                c[i+1] = C\n",
    "                \n",
    "            # senão, refaz o passo usando uma taxa de aprend. menor\n",
    "            # (isso já é um passo extra que eu coloquei pra não deixar\n",
    "            # o gradiente explodir)\n",
    "            if C > c[i]:\n",
    "                w = w - h*dw\n",
    "                h = 3*h/4\n",
    "                v = v - 1\n",
    "                #print(h)\n",
    "                \n",
    "        self.W=w\n",
    "        \n",
    "        # retorna os pesos atualizados e o historico da função custo\n",
    "        return w, c\n",
    "    \n",
    "    \n",
    "    # Retorna a classe e probabilidades de um único imput\n",
    "    def testa(self,q,w):\n",
    "        Q = np.concatenate((1,q),axis=None)\n",
    "        prob = self.sigmo(np.dot(w.T,Q))\n",
    "        if prob > 0.5:\n",
    "            print('O ponto',q,'é azul com prob', np.round(prob,3))\n",
    "            if type(q) == float:\n",
    "                return prob\n",
    "        else:\n",
    "            print('O ponto',q,'é vermelho com prob', np.round(1-prob,3))\n",
    "            if type(q) == float:\n",
    "                return 1-prob\n",
    "    \n",
    "    \n",
    "    # Reta (ou plano ou hyperplano) que divide os pontos\n",
    "    def reta(self,W):\n",
    "        m = len(W)\n",
    "        \n",
    "        X = np.zeros([self.dim,self.n])\n",
    "        if self.dim == 1:\n",
    "            X = x\n",
    "        else:\n",
    "            for i in range (self.dim):\n",
    "                X[i] = self.x[:,i]\n",
    "                \n",
    "        if self.dim == 1:\n",
    "            z = np.linspace(np.min(X)-0.5,np.max(X)+0.5,100)\n",
    "            Z = np.zeros(100)\n",
    "            for k in range (100):\n",
    "                Z[k] = W[0] + W[1]*z[k]         \n",
    "            \n",
    "        else:\n",
    "            z = np.zeros([self.dim-1,100])\n",
    "            for i in range (self.dim-1):\n",
    "                z[i] = np.linspace(np.min(X[i]) - 0.5,np.max(X[i])+0.5,100)\n",
    "            \n",
    "            Z = np.zeros(100)\n",
    "            for k in range (100):\n",
    "                Z[k] = -W[0]/W[m-1]\n",
    "                for i in range(self.dim-1):\n",
    "                    Z[k] = Z[k] - W[i+1]*z[i][k]/W[m-1]\n",
    "        \n",
    "        # retorna \"eixos\" x e y da reta\n",
    "        return z, Z\n",
    "        \n",
    "    \n",
    "    # plota pontos com a reta (vale só pra 2D)\n",
    "    def desenhar_r(self,x,y,w):\n",
    "        reta = self.reta(w)\n",
    "        if self.dim == 1:\n",
    "            X = x\n",
    "            Y = y\n",
    "            z = reta[0]\n",
    "            Z = reta[1]\n",
    "        else:\n",
    "            X = x[:,0]\n",
    "            Y = x[:,1]\n",
    "            z = reta[0][0]\n",
    "            Z = reta[1]\n",
    "        \n",
    "        for i in range (len(X)):\n",
    "            if y[i] == 1:\n",
    "                pl.scatter(X[i],Y[i],c='b')\n",
    "            else:\n",
    "                pl.scatter(X[i],Y[i],c='r')\n",
    "        \n",
    "        pl.plot(z,Z)\n",
    "        pl.ylim(np.min(Y)-0.5,np.max(Y)+0.5)\n",
    "        \n",
    "    \n",
    "    \n",
    "    # plota só os pontos (só 2D)\n",
    "    def pontos(self,x,y):\n",
    "        if self.dim == 1:\n",
    "            X = x\n",
    "            Y = y\n",
    "        else:\n",
    "            X = x[:,0]\n",
    "            Y = x[:,1]\n",
    "        \n",
    "        for i in range (len(X)):\n",
    "            if y[i] == 1:\n",
    "                pl.scatter(X[i],Y[i],c='b')\n",
    "            else:\n",
    "                pl.scatter(X[i],Y[i],c='r')\n",
    "        \n",
    "        pl.xlim(np.min(X)-0.5,np.max(X)+0.5)\n",
    "        pl.ylim(np.min(Y)-0.5,np.max(Y)+0.5)"
   ]
  },
  {
   "cell_type": "markdown",
   "metadata": {},
   "source": [
    "# Teste 2D"
   ]
  },
  {
   "cell_type": "code",
   "execution_count": 3,
   "metadata": {},
   "outputs": [
    {
     "data": {
      "image/png": "[encoded data removed]",
      "text/plain": [
       "<Figure size 432x288 with 1 Axes>"
      ]
     },
     "metadata": {
      "needs_background": "light"
     },
     "output_type": "display_data"
    }
   ],
   "source": [
    "# input\n",
    "x = np.array([[0,0.75],[0,1],[0.6,1.2],[0.5,0.94],[0.0,0.6]])\n",
    "# output\n",
    "y = np.array([1,1,1,0,0])\n",
    "\n",
    "cor = grad(x,y)\n",
    "# plota só os pontos\n",
    "cor.pontos(x,y)"
   ]
  },
  {
   "cell_type": "code",
   "execution_count": 4,
   "metadata": {},
   "outputs": [
    {
     "name": "stdout",
     "output_type": "stream",
     "text": [
      "O ponto (0.9, 1.2) é vermelho com prob 0.585\n"
     ]
    },
    {
     "data": {
      "image/png": "[encoded data removed]",
      "text/plain": [
       "<Figure size 432x288 with 1 Axes>"
      ]
     },
     "metadata": {
      "needs_background": "light"
     },
     "output_type": "display_data"
    }
   ],
   "source": [
    "# taxa de aprendizado e nº maximo de iterações\n",
    "h, v = 0.5, 150\n",
    "\n",
    "# pesos e histórico da função de custo\n",
    "w, c = cor.desce(h,v)[0],cor.desce(h,v)[1]\n",
    "\n",
    "# desenha a reta\n",
    "cor.desenhar_r(x,y,w)\n",
    "\n",
    "# prevê um ponto\n",
    "q = (0.9,1.2)\n",
    "cor.testa(q,w)\n",
    "pl.scatter(q[0],q[1],c='lime')\n",
    "pl.show()"
   ]
  },
  {
   "cell_type": "code",
   "execution_count": 5,
   "metadata": {},
   "outputs": [
    {
     "data": {
      "text/plain": [
       "[<matplotlib.lines.Line2D at 0x15765bb5548>]"
      ]
     },
     "execution_count": 5,
     "metadata": {},
     "output_type": "execute_result"
    },
    {
     "data": {
      "image/png": "[encoded data removed]",
      "text/plain": [
       "<Figure size 432x288 with 1 Axes>"
      ]
     },
     "metadata": {
      "needs_background": "light"
     },
     "output_type": "display_data"
    }
   ],
   "source": [
    "# histórico da função de custo\n",
    "z = np.arange(0,len(c),1)\n",
    "pl.plot(z,c)"
   ]
  },
  {
   "cell_type": "markdown",
   "metadata": {},
   "source": [
    "# Teste 1D\n",
    "\n",
    "Nesse caso, o eixo y representará a probabilidade do ponto pertencer à classe azul."
   ]
  },
  {
   "cell_type": "code",
   "execution_count": 6,
   "metadata": {},
   "outputs": [
    {
     "data": {
      "image/png": "[encoded data removed]",
      "text/plain": [
       "<Figure size 432x288 with 1 Axes>"
      ]
     },
     "metadata": {
      "needs_background": "light"
     },
     "output_type": "display_data"
    }
   ],
   "source": [
    "# input\n",
    "x = np.array([1,2,2.25,3,5,7,7.75,8,8.81,20])\n",
    "# output\n",
    "y = np.array([0,0,0,0,0,1,1,1,1,1])\n",
    "\n",
    "ex = grad(x,y)\n",
    "ex.pontos(x,y)"
   ]
  },
  {
   "cell_type": "code",
   "execution_count": 7,
   "metadata": {
    "scrolled": true
   },
   "outputs": [
    {
     "name": "stdout",
     "output_type": "stream",
     "text": [
      "O ponto 6.0 é azul com prob 0.659\n"
     ]
    },
    {
     "data": {
      "text/plain": [
       "<matplotlib.collections.PathCollection at 0x15765ccb388>"
      ]
     },
     "execution_count": 7,
     "metadata": {},
     "output_type": "execute_result"
    },
    {
     "data": {
      "image/png": "[encoded data removed]",
      "text/plain": [
       "<Figure size 432x288 with 1 Axes>"
      ]
     },
     "metadata": {
      "needs_background": "light"
     },
     "output_type": "display_data"
    }
   ],
   "source": [
    "# taxa de aprendizado e nº maximo de iterações\n",
    "h, v = 0.1, 500\n",
    "\n",
    "# pesos e histórico da função de custo\n",
    "w, c = ex.desce(h,v)[0],ex.desce(h,v)[1]\n",
    "\n",
    "# desenha a reta\n",
    "ex.desenhar_r(x,y,w)\n",
    "\n",
    "# prevê um ponto\n",
    "q = (6)\n",
    "Z = cor.testa(float(q),w)\n",
    "pl.scatter(q,Z,c='lime')"
   ]
  },
  {
   "cell_type": "code",
   "execution_count": 8,
   "metadata": {},
   "outputs": [
    {
     "data": {
      "text/plain": [
       "[<matplotlib.lines.Line2D at 0x15765d3d448>]"
      ]
     },
     "execution_count": 8,
     "metadata": {},
     "output_type": "execute_result"
    },
    {
     "data": {
      "image/png": "[encoded data removed]",
      "text/plain": [
       "<Figure size 432x288 with 1 Axes>"
      ]
     },
     "metadata": {
      "needs_background": "light"
     },
     "output_type": "display_data"
    }
   ],
   "source": [
    "# histórico da função de custo\n",
    "z = np.arange(0,len(c),1)\n",
    "pl.plot(z,c)"
   ]
  }
 ],
 "metadata": {
  "kernelspec": {
   "display_name": "Python 3",
   "language": "python",
   "name": "python3"
  },
  "language_info": {
   "codemirror_mode": {
    "name": "ipython",
    "version": 3
   },
   "file_extension": ".py",
   "mimetype": "text/x-python",
   "name": "python",
   "nbconvert_exporter": "python",
   "pygments_lexer": "ipython3",
   "version": "3.7.6"
  }
 },
 "nbformat": 4,
 "nbformat_minor": 2
}
