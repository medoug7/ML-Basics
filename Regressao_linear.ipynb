{
 "cells": [
  {
   "cell_type": "code",
   "execution_count": 1,
   "metadata": {},
   "outputs": [],
   "source": [
    "import numpy as np\n",
    "from matplotlib import pyplot as pl"
   ]
  },
  {
   "cell_type": "markdown",
   "metadata": {},
   "source": [
    "# Regressão Linear por Gradiente Descendente"
   ]
  },
  {
   "cell_type": "markdown",
   "metadata": {},
   "source": [
    "Regressão linear envolve encontrar os parâmetros para fitar uma reta através do método dos mínimos quadrados. O algorítimo é parecido com o do perceptron, exceto que agora ele tenta minimizar uma certa função custo (neste caso será o quadrado da diferença entre o valor real e o calculado pela rede $(y - \\vec w\\cdot \\vec x_{n})$."
   ]
  },
  {
   "cell_type": "markdown",
   "metadata": {},
   "source": [
    "Input: $\\vec{x_{i}}=(x_{1},x_{2},...,x_{d})$\n",
    "\n",
    "\n",
    "Fazendo: $x_{i}=(1,\\vec{x_{i}})$  ,  \n",
    "        $w=(w_{0},w_{1},...,w_{d})$.\n",
    "        \n",
    "Chutamos os pesos: $\\vec{w_{0}}$\n",
    "\n",
    "A função de custo será: $\\Sigma_{n}  (y_{n}-\\vec w\\cdot \\vec x_{n})^2$\n",
    "\n",
    "Então atualizamos os pesos usando a derivada da função de custo: $dw_{j}=\\Sigma_{n}  (y_{n}-\\vec w\\cdot \\vec x_{n}) x_{j}$\n"
   ]
  },
  {
   "cell_type": "code",
   "execution_count": 2,
   "metadata": {},
   "outputs": [],
   "source": [
    "class grad:\n",
    "    \n",
    "    def __init__(self,x,y):\n",
    "        # Define as dimensões do input\n",
    "        if len(x.shape) == 1:\n",
    "            self.dim = 1\n",
    "        else:\n",
    "            self.dim = x.shape[1]\n",
    "        self.n = len(y)\n",
    "        \n",
    "        # vetor input estendido\n",
    "        X = np.zeros((self.n,self.dim+1))\n",
    "        for i in range (self.n):\n",
    "            X[i] = np.concatenate((1,x[i]),axis=None)\n",
    "        self.X = X.T\n",
    "        self.Y = y\n",
    "        self.W = np.random.rand(self.dim+1)\n",
    "        \n",
    "    \n",
    "    # função custo\n",
    "    def cost(self,w):\n",
    "        X = self.X\n",
    "        N = self.n\n",
    "        A = np.dot(w.T,X)\n",
    "        J = np.sum((self.Y-A)**2)/N\n",
    "        return J\n",
    "    \n",
    "    \n",
    "    # algoritimo descida gradiente\n",
    "    # (h=taxa de aprend. v=nº iterações)\n",
    "    def desce(self,h,v):\n",
    "        X = self.X\n",
    "        Y = self.Y\n",
    "        N = self.n\n",
    "        w = np.random.rand(self.dim+1)\n",
    "        # vetor pra guardar info de como o custo evolui com o tempo\n",
    "        c = np.zeros(v+1)\n",
    "        \n",
    "        for i in range (v):\n",
    "            c[i] = self.cost(w)\n",
    "            \n",
    "            dw = np.zeros(len(w))\n",
    "            Z = np.dot(w.T,X)\n",
    "            A = Y-Z\n",
    "            \n",
    "            dw += np.dot(X,A.T)\n",
    "            \n",
    "            w += h*dw\n",
    "            C = self.cost(w)\n",
    "            \n",
    "            # checa se a função custo está diminuindo\n",
    "            if c[i] > C:\n",
    "                c[i+1] = C\n",
    "                \n",
    "            # senão, refaz o passo usando uma taxa de aprend. menor\n",
    "            # (isso já é um passo extra que eu coloquei pra não deixar\n",
    "            # o gradiente explodir)\n",
    "            if C > c[i]:\n",
    "                w = w - h*dw\n",
    "                h = 3*h/4\n",
    "                v = v - 1\n",
    "                #print(h)            \n",
    "            \n",
    "        self.W = w\n",
    "        \n",
    "        # retorna os pesos atualizados e o historico da função custo\n",
    "        return w, c\n",
    "\n",
    "    \n",
    "    # Prevê o valor de 1 imput\n",
    "    def prever(self,x):\n",
    "        X = np.concatenate((1,x),axis=None)\n",
    "        w = self.W\n",
    "        return np.dot(w.T,X)\n",
    "    \n",
    "    \n",
    "    # usa uma álgebra maluca pra calcular\n",
    "    # a raiz da variância do ajuste\n",
    "    def var(self):\n",
    "        N = self.n\n",
    "        w = self.W\n",
    "        return np.sqrt(np.sum((self.Y-np.dot(w.T,self.X))**2)/(N-self.dim))\n",
    "    \n",
    "    \n",
    "    # Calcula R²\n",
    "    # porcentagem que vai dizer o quanto a variância de uma variável\n",
    "    # pode ser explicada por uma relação linear com outra (nesse caso x)\n",
    "    def Rsq(self):\n",
    "        N = self.n\n",
    "        # variância da média de y\n",
    "        var_m = np.sum((self.Y-np.mean(self.Y))**2)/N\n",
    "        # variância do ajuste \n",
    "        var_f = self.var()\n",
    "        \n",
    "        # var média > var fit -> R² < 1\n",
    "        return (var_m - var_f)/var_m\n",
    "    \n",
    "    \n",
    "    # calcula F\n",
    "    # um valor que indica o quão significante R² é\n",
    "    def F(self):\n",
    "        N = self.n        \n",
    "        # nº graus de liberdade (parâmetros) do ajuste\n",
    "        p_f = self.dim+1\n",
    "        # nª graus liberdade da média (dimensões do output)\n",
    "        p_m = 1\n",
    "        # variância da média de y\n",
    "        var_m = np.sum((self.Y-np.mean(self.Y))**2)/N\n",
    "        # variância do ajuste \n",
    "        var_f = self.var()\n",
    "        \n",
    "        # var média > var fit -> F > 1\n",
    "        return (var_m - var_f)/var_f*(N-p_f)/(p_f-p_m)  \n",
    "    \n",
    "    \n",
    "    # álgebra maluca pra calcular a\n",
    "    # raiz da variância dos parâmetros\n",
    "    def varp(self):        \n",
    "        X = self.X\n",
    "        X = X.T\n",
    "        if np.linalg.det(np.dot(X.T,X))==0:\n",
    "            print('det=0')\n",
    "            return 0\n",
    "        \n",
    "        D = np.linalg.inv(np.dot(X.T,X))*self.var()**2\n",
    "        p = np.zeros(self.dim+1)\n",
    "        for i in range (len(p)):\n",
    "            p[i] = np.sqrt(D[i][i])\n",
    "        return p     \n",
    "    \n",
    "    \n",
    "    # printar parâmetros e incertezas\n",
    "    def par(self):\n",
    "        vp = self.varp()\n",
    "        for i in range (len(vp)):\n",
    "            print('w',i,'=',self.W[i],'+',vp[i],)"
   ]
  },
  {
   "cell_type": "markdown",
   "metadata": {},
   "source": [
    "# Teste linear"
   ]
  },
  {
   "cell_type": "code",
   "execution_count": 3,
   "metadata": {
    "scrolled": true
   },
   "outputs": [
    {
     "data": {
      "text/plain": [
       "<matplotlib.collections.PathCollection at 0x1f462121688>"
      ]
     },
     "execution_count": 3,
     "metadata": {},
     "output_type": "execute_result"
    },
    {
     "data": {
      "image/png": "[encoded data removed]",
      "text/plain": [
       "<Figure size 432x288 with 1 Axes>"
      ]
     },
     "metadata": {
      "needs_background": "light"
     },
     "output_type": "display_data"
    }
   ],
   "source": [
    "# input\n",
    "x = np.array([0,1,1.2,1.5,2])\n",
    "# output\n",
    "y = np.array([0.8,1.7,1.5,2,2.5])\n",
    "\n",
    "pl.scatter(x,y)"
   ]
  },
  {
   "cell_type": "code",
   "execution_count": 4,
   "metadata": {},
   "outputs": [
    {
     "data": {
      "text/plain": [
       "<matplotlib.collections.PathCollection at 0x1f461a43b08>"
      ]
     },
     "execution_count": 4,
     "metadata": {},
     "output_type": "execute_result"
    },
    {
     "data": {
      "image/png": "[encoded data removed]",
      "text/plain": [
       "<Figure size 432x288 with 1 Axes>"
      ]
     },
     "metadata": {
      "needs_background": "light"
     },
     "output_type": "display_data"
    }
   ],
   "source": [
    "# taxa de aprendizado e nº maximo de iterações\n",
    "h, v = 0.1, 40\n",
    "\n",
    "yes = grad(x,y)\n",
    "# pesos e histórico da função de custo\n",
    "W, c = yes.desce(h,v)[0], yes.desce(h,v)[1]\n",
    "\n",
    "X = yes.X\n",
    "#prevê\n",
    "z = np.dot(W.T,X)\n",
    "#print(z)\n",
    "\n",
    "# calcular e plotar as incertezas\n",
    "var = yes.var()\n",
    "z1, z2 = z + var, z-var\n",
    "\n",
    "pl.plot(x,z,c='black')\n",
    "pl.plot(x,z1,c='g')\n",
    "pl.plot(x,z2,c='g')\n",
    "\n",
    "pl.scatter(x,y)"
   ]
  },
  {
   "cell_type": "code",
   "execution_count": 5,
   "metadata": {},
   "outputs": [
    {
     "name": "stdout",
     "output_type": "stream",
     "text": [
      "1.5815779404045913 + 0.14626050075887753\n"
     ]
    }
   ],
   "source": [
    "# dado o ponto x = a\n",
    "a = 1\n",
    "\n",
    "# prever y(a) e sua incerteza\n",
    "print(yes.prever(a),'+',yes.var())"
   ]
  },
  {
   "cell_type": "code",
   "execution_count": 6,
   "metadata": {},
   "outputs": [
    {
     "name": "stdout",
     "output_type": "stream",
     "text": [
      "w 0 = 0.748323651421296 + 0.13023618535487277\n",
      "w 1 = 0.8332542889832952 + 0.09878858869573584\n",
      "\n",
      "R² = 0.537150314054185 \n",
      "F = 3.4815859037899513\n"
     ]
    }
   ],
   "source": [
    "# devolve os parâmetros dessa reta\n",
    "yes.par()\n",
    "\n",
    "# R² e F\n",
    "print('\\nR² =',yes.Rsq(),'\\nF =',yes.F())"
   ]
  },
  {
   "cell_type": "code",
   "execution_count": 7,
   "metadata": {},
   "outputs": [
    {
     "data": {
      "text/plain": [
       "<matplotlib.collections.PathCollection at 0x1f4621f2f88>"
      ]
     },
     "execution_count": 7,
     "metadata": {},
     "output_type": "execute_result"
    },
    {
     "data": {
      "image/png": "[encoded data removed]",
      "text/plain": [
       "<Figure size 432x288 with 1 Axes>"
      ]
     },
     "metadata": {
      "needs_background": "light"
     },
     "output_type": "display_data"
    }
   ],
   "source": [
    "# calcula a incerteza dos parâmetros\n",
    "vp = yes.varp()\n",
    "z = np.dot(W.T,X)\n",
    "\n",
    "w1, w2 = W + vp, W - vp\n",
    "\n",
    "# calcula e plota a reta com os parâmetros mais extremos\n",
    "z_max = np.dot(w1.T, X)\n",
    "z_min = np.dot(w2.T, X)\n",
    "\n",
    "pl.plot(x,z,c='black')\n",
    "pl.plot(x,z_max,c='r')\n",
    "pl.plot(x,z_min,c='r')\n",
    "\n",
    "pl.scatter(x,y)"
   ]
  },
  {
   "cell_type": "markdown",
   "metadata": {},
   "source": [
    "# Mais dimensões"
   ]
  },
  {
   "cell_type": "markdown",
   "metadata": {},
   "source": [
    "Se temos mais dimensões fica difícil de visualizar o problema, mas o algorítimo ainda funciona."
   ]
  },
  {
   "cell_type": "code",
   "execution_count": 8,
   "metadata": {},
   "outputs": [],
   "source": [
    "#input 2D\n",
    "x = np.array([(0,1),(2,2),(3,4)])\n",
    "#output 1D\n",
    "y = np.array([1,4,7])\n",
    "\n",
    "no = grad(x,y)"
   ]
  },
  {
   "cell_type": "code",
   "execution_count": 9,
   "metadata": {},
   "outputs": [
    {
     "name": "stdout",
     "output_type": "stream",
     "text": [
      "[0.00123383 1.00119833 0.99865964]\n"
     ]
    }
   ],
   "source": [
    "h, v = 0.1, 500\n",
    "\n",
    "desce = no.desce(h,v)\n",
    "\n",
    "w = desce[0]\n",
    "print(w)"
   ]
  },
  {
   "cell_type": "code",
   "execution_count": 10,
   "metadata": {},
   "outputs": [
    {
     "name": "stdout",
     "output_type": "stream",
     "text": [
      "w 0 = 0.0012338343137053395 + 0.001503721504074353\n",
      "w 1 = 1.001198326139465 + 0.0013646050293770395\n",
      "w 2 = 0.9986596424920227 + 0.0013646050293770397\n"
     ]
    },
    {
     "data": {
      "image/png": "[encoded data removed]",
      "text/plain": [
       "<Figure size 432x288 with 1 Axes>"
      ]
     },
     "metadata": {
      "needs_background": "light"
     },
     "output_type": "display_data"
    }
   ],
   "source": [
    "c = desce[1]\n",
    "\n",
    "# ver como a função custo diminui ao longo das iterações\n",
    "pl.plot(c)\n",
    "\n",
    "# printa os parâmetros e suas incertezas\n",
    "no.par()"
   ]
  }
 ],
 "metadata": {
  "kernelspec": {
   "display_name": "Python 3",
   "language": "python",
   "name": "python3"
  },
  "language_info": {
   "codemirror_mode": {
    "name": "ipython",
    "version": 3
   },
   "file_extension": ".py",
   "mimetype": "text/x-python",
   "name": "python",
   "nbconvert_exporter": "python",
   "pygments_lexer": "ipython3",
   "version": "3.7.6"
  }
 },
 "nbformat": 4,
 "nbformat_minor": 2
}
