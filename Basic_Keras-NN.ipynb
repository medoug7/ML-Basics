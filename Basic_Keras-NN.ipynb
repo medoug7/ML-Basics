{
 "cells": [
  {
   "cell_type": "code",
   "execution_count": 1,
   "metadata": {},
   "outputs": [
    {
     "name": "stderr",
     "output_type": "stream",
     "text": [
      "Using TensorFlow backend.\n"
     ]
    }
   ],
   "source": [
    "import numpy as np\n",
    "from random import randint\n",
    "from sklearn.preprocessing import MinMaxScaler\n",
    "from sklearn.metrics import confusion_matrix\n",
    "import matplotlib.pyplot as plt\n",
    "import itertools\n",
    "\n",
    "import keras\n",
    "from keras import backend as K\n",
    "from keras.models import Sequential\n",
    "from keras.layers import Activation\n",
    "from keras.layers.core import Dense\n",
    "from keras.optimizers import Adam\n",
    "from keras.metrics import categorical_crossentropy"
   ]
  },
  {
   "cell_type": "markdown",
   "metadata": {},
   "source": [
    "Este tutorial foi adaptado da série de vídeos \"Keras - Python Deep Learning Neural Network API\" do canal \"deeplizard' no youtube:\n",
    "\n",
    "https://www.youtube.com/watch?v=3FwGDUD_ZuQ&list=PLZbbT5o_s2xrwRnXk_yCPtnqqo4_u2YGL&index=3\n",
    "\n",
    "\n",
    "Aqui nós criaremos nossos dados, prepararemos eles, então construiremos a rede neural, vamos treiná-la e avaliar a sua performance."
   ]
  },
  {
   "cell_type": "markdown",
   "metadata": {},
   "source": [
    "# Problema exemplo"
   ]
  },
  {
   "cell_type": "markdown",
   "metadata": {},
   "source": [
    "Uma droga experimental foi testada clinicamente em 2100 pessoas de idades entre 13 e 100 anos, sendo que uma metade delas tinha mais e a outra menos do que 65 anos.\n",
    "\n",
    "95% dos participantes com mais de 65 anos experienciaram efeitos colaterais.\n",
    "\n",
    "95% dos participantes com menos de 65 não experienciaram nenum efeito colateral.\n",
    "\n",
    "Queremos então criar uma rede neural que vai se basear na idade dos participantes para tentar prever se esta pessoa sofrerá de efeitos colaterais ou não."
   ]
  },
  {
   "cell_type": "code",
   "execution_count": 2,
   "metadata": {},
   "outputs": [],
   "source": [
    "# vamos criar os dados para representar este problema fictício\n",
    "'''\n",
    "O input da rede será a idade dos participantes (um número), e seu \n",
    "output será a previsão sobre a chance deste participante desenvolver\n",
    "efeitos colaterais (neste caso ela devolve 1) ou não (devolve 0).\n",
    "\n",
    "'''\n",
    "\n",
    "# lista com os dados de treino (input)\n",
    "train_samples=[]\n",
    "# lista com as categorias para treino (output)\n",
    "train_labels=[]\n",
    "\n",
    "# abaixo geramos os dados\n",
    "for i in range(50):\n",
    "    # 5% dos jovens com efeitos colaterais\n",
    "    random_y = randint(13,64)\n",
    "    train_samples.append(random_y)\n",
    "    train_labels.append(1)\n",
    "    \n",
    "    # 5% dos idosos sem efeitos colaterais\n",
    "    random_o = randint(65,100)\n",
    "    train_samples.append(random_o)\n",
    "    train_labels.append(0)\n",
    "\n",
    "for i in range(1000):\n",
    "    # 95% dos jovens sem efeitos colaterais\n",
    "    random_y = randint(13,64)\n",
    "    train_samples.append(random_y)\n",
    "    train_labels.append(0)\n",
    "    \n",
    "    # 95% dos idosos com efeitos colaterais\n",
    "    random_o = randint(65,100)\n",
    "    train_samples.append(random_o)\n",
    "    train_labels.append(1)"
   ]
  },
  {
   "cell_type": "markdown",
   "metadata": {},
   "source": [
    "Transformamos as listas de dados em vetores porque este é o formato que a rede neural lê."
   ]
  },
  {
   "cell_type": "code",
   "execution_count": 3,
   "metadata": {},
   "outputs": [],
   "source": [
    "train_samples = np.array(train_samples)\n",
    "train_labels = np.array(train_labels)"
   ]
  },
  {
   "cell_type": "markdown",
   "metadata": {},
   "source": [
    "Um passo interessante, mas não necessário, é usarmos uma função pra comprimir os valores de imput (as idades) em números entre 0 e 1. Isso fará com que a idade 13 seja mapeada no 0 e a idade 100 no 1, o que ocupará menos memória durante o treinamento e tornará mais fácil pra rede neural se ajustar."
   ]
  },
  {
   "cell_type": "code",
   "execution_count": 4,
   "metadata": {},
   "outputs": [
    {
     "name": "stderr",
     "output_type": "stream",
     "text": [
      "C:\\ProgramData\\Anaconda3\\lib\\site-packages\\sklearn\\utils\\validation.py:595: DataConversionWarning: Data with input dtype int32 was converted to float64 by MinMaxScaler.\n",
      "  warnings.warn(msg, DataConversionWarning)\n"
     ]
    }
   ],
   "source": [
    "# usamos a função MinMaxScaler do scklearn\n",
    "scaler = MinMaxScaler(feature_range=(0,1))\n",
    "\n",
    "# aplicamos ela aos nossos dados\n",
    "strain_samples = scaler.fit_transform((train_samples).reshape(-1,1))"
   ]
  },
  {
   "cell_type": "code",
   "execution_count": null,
   "metadata": {},
   "outputs": [],
   "source": [
    "# se você quiser ver como ficaram os dados escalados\n",
    "\n",
    "for i in range(int(len(train_samples)/10)):\n",
    "    print(train_samples[i],'-',strain_samples[i])"
   ]
  },
  {
   "cell_type": "markdown",
   "metadata": {},
   "source": [
    "# Criando a rede neural"
   ]
  },
  {
   "cell_type": "markdown",
   "metadata": {},
   "source": [
    "Abaixo criamos o modelo da rede usando a classe Sequential do Keras.\n",
    "\n",
    "Neste exemplo simples teremos uma camada de input com apenas um neurônio (valor escalado da idade do participante) conectada a uma única camada escondida de 16 neurônios, que então se conecta à camada de output de 2 neurônios que finalmente realizarão a previsão do surgimento de efeitos colaterais ou não (1 ou 0 respectivamente)."
   ]
  },
  {
   "cell_type": "code",
   "execution_count": 5,
   "metadata": {},
   "outputs": [
    {
     "name": "stdout",
     "output_type": "stream",
     "text": [
      "WARNING:tensorflow:From C:\\ProgramData\\Anaconda3\\lib\\site-packages\\tensorflow\\python\\ops\\resource_variable_ops.py:435: colocate_with (from tensorflow.python.framework.ops) is deprecated and will be removed in a future version.\n",
      "Instructions for updating:\n",
      "Colocations handled automatically by placer.\n",
      "Model: \"sequential_1\"\n",
      "_________________________________________________________________\n",
      "Layer (type)                 Output Shape              Param #   \n",
      "=================================================================\n",
      "dense_1 (Dense)              (None, 16)                32        \n",
      "_________________________________________________________________\n",
      "dense_2 (Dense)              (None, 32)                544       \n",
      "_________________________________________________________________\n",
      "dense_3 (Dense)              (None, 2)                 66        \n",
      "=================================================================\n",
      "Total params: 642\n",
      "Trainable params: 642\n",
      "Non-trainable params: 0\n",
      "_________________________________________________________________\n"
     ]
    }
   ],
   "source": [
    "# cria o modelo\n",
    "model = Sequential([\n",
    "    Dense(16, input_shape=(1,), activation='relu'),\n",
    "    Dense(32, activation='relu'),\n",
    "    Dense(2, activation='softmax')\n",
    "])\n",
    "\n",
    "# faz um sumário de cada camada do modelo e do nª de parâmetros\n",
    "model.summary()"
   ]
  },
  {
   "cell_type": "markdown",
   "metadata": {},
   "source": [
    "A seguir precisamos escolher uma função de custo (ou loss) e um optimizador para o nosso modelo. A função de custo representa o quão distante as previsões da rede estão da realidade, e o optimizador será o algoritmo que treinará a rede para minimizar esta função de custo.\n",
    "\n",
    "Para saber mais leia a documentação:\n",
    "\n",
    "https://keras.io/api/optimizers/\n",
    "\n",
    "https://keras.io/api/losses/"
   ]
  },
  {
   "cell_type": "code",
   "execution_count": 6,
   "metadata": {},
   "outputs": [],
   "source": [
    "# neste exemplo vamos usar o optimizador Adam, que é bem rápido\n",
    "# e usa pouca memória\n",
    "\n",
    "model.compile(Adam(lr=.001), loss='sparse_categorical_crossentropy', metrics=['accuracy'])"
   ]
  },
  {
   "cell_type": "markdown",
   "metadata": {},
   "source": [
    "# Treinamento"
   ]
  },
  {
   "cell_type": "markdown",
   "metadata": {},
   "source": [
    "Antes de começar nós devemos escolher diversos valores na mão sobre como o treinamento deverá acontecer, os chamados hyperparâmetros.\n",
    "\n",
    "$\\textbf{Batch size (ou Tamanho do Batch)}$: Este valor representa quantos exemplos de treino a rede deverá analizar antes de atualizar os valores dos seus parâmetros internos. Um valor muito pequeno pode resultar num tempo de treino muito grande, e dependendo da complexidade do problema que estamos lidando, pode até impedir o modelo de captar os padões gerais nos dados já que a rede estará se alterando de acordo com os detalhes de cada exemplo do treinamento. Por outro lado, uma escolha muito grande pode levar o modelo a fazer generalizações indesejáveis sem levar em conta as particularidades de cada exemplo.\n",
    "\n",
    "$\\textbf{Epochs}$: Número de vezes que o modelo estudará $\\textbf{todo}$ o conjunto de treino. Quando queremos uma alta precisão nos resultados é natural querer que o nosso modelo estude os dados de treino várias vezes, mas é importante lembrar que existem dois problemas com essa ideia: 1- Um número de épocas muito grande pode ser computacionalmente ineficiente, uma vez que a precisão da rede alcança um valor relativamente grande e faz com que séculos adicionais de treino não gerem resultados muito melhores. 2- Estudar demais os exemplos de treino pode resultar em Overfitting, que é quando a qualidade da rede é completamente otimizada para lidar com os dados do treinamento e incapaz de lidar com novos dados (isso geralmente acontece quando acreditamos que nossos dados de treino são suficientemente representativos da realidade que queremos modelar, mas contém algum viés que torna o modelo incapaz de alcançar conclusões corretas quando confrontado com dados além do seu conjunto de treino).\n",
    "\n",
    "$\\textbf{Shuffle}$: Determina se a ordem dos dados de treino será aleatorizada antes de cada época.\n",
    "\n",
    "Pra mais informações leia a documentação: https://keras.io/api/models/model_training_apis/"
   ]
  },
  {
   "cell_type": "markdown",
   "metadata": {},
   "source": [
    "______\n",
    "Além das escolhas dos hyperparâmetros, temos duas opções de treinamento pra realizar:\n",
    "\n",
    "A linha de código abaixo fará com que o modelo treine em 100% dos dados de treinamento."
   ]
  },
  {
   "cell_type": "code",
   "execution_count": 7,
   "metadata": {},
   "outputs": [
    {
     "name": "stdout",
     "output_type": "stream",
     "text": [
      "Epoch 1/5\n",
      " - 1s - loss: 0.5757 - accuracy: 0.6852\n",
      "Epoch 2/5\n",
      " - 0s - loss: 0.3531 - accuracy: 0.9071\n",
      "Epoch 3/5\n",
      " - 0s - loss: 0.2782 - accuracy: 0.9329\n",
      "Epoch 4/5\n",
      " - 0s - loss: 0.2598 - accuracy: 0.9429\n",
      "Epoch 5/5\n",
      " - 0s - loss: 0.2527 - accuracy: 0.9390\n"
     ]
    },
    {
     "data": {
      "text/plain": [
       "<keras.callbacks.callbacks.History at 0x22c287b4e88>"
      ]
     },
     "execution_count": 7,
     "metadata": {},
     "output_type": "execute_result"
    }
   ],
   "source": [
    "model.fit(strain_samples, train_labels, batch_size=10, epochs=5, shuffle=True, verbose=2)"
   ]
  },
  {
   "cell_type": "markdown",
   "metadata": {},
   "source": [
    "Já o código abaixo dividirá os dados entre treinamento e validação. Assim, o modelo treinará somente no conjunto de treino e usará o conjunto de validação para sabermos o quão bem ele está se saindo com dados que ele nunca viu antes.\n",
    "\n",
    "$\\textbf{validation split}$: Representa a fração dos dados que serão usados para validação (pega sempre os últimos exemplos da lista)."
   ]
  },
  {
   "cell_type": "code",
   "execution_count": 8,
   "metadata": {},
   "outputs": [
    {
     "name": "stdout",
     "output_type": "stream",
     "text": [
      "Train on 1890 samples, validate on 210 samples\n",
      "Epoch 1/5\n",
      " - 0s - loss: 0.2610 - accuracy: 0.9376 - val_loss: 0.1340 - val_accuracy: 1.0000\n",
      "Epoch 2/5\n",
      " - 0s - loss: 0.2594 - accuracy: 0.9402 - val_loss: 0.1307 - val_accuracy: 0.9905\n",
      "Epoch 3/5\n",
      " - 0s - loss: 0.2571 - accuracy: 0.9434 - val_loss: 0.1305 - val_accuracy: 0.9762\n",
      "Epoch 4/5\n",
      " - 0s - loss: 0.2583 - accuracy: 0.9349 - val_loss: 0.1258 - val_accuracy: 1.0000\n",
      "Epoch 5/5\n",
      " - 0s - loss: 0.2557 - accuracy: 0.9402 - val_loss: 0.1286 - val_accuracy: 0.9762\n"
     ]
    },
    {
     "data": {
      "text/plain": [
       "<keras.callbacks.callbacks.History at 0x22c286230c8>"
      ]
     },
     "execution_count": 8,
     "metadata": {},
     "output_type": "execute_result"
    }
   ],
   "source": [
    "model.fit(strain_samples, train_labels, validation_split=0.1, batch_size=10, epochs=5, shuffle=True, verbose=2)"
   ]
  },
  {
   "cell_type": "markdown",
   "metadata": {},
   "source": [
    "# Avaliação"
   ]
  },
  {
   "cell_type": "markdown",
   "metadata": {},
   "source": [
    "Se não quisermos dividir nossos dados de treino (ou não queremos deixar o programa selecionar apenas os últimos exemplos) podemos testar a qualidade do nosso modelo em dados novos para estudar a sua performance de maneira mais precisa."
   ]
  },
  {
   "cell_type": "code",
   "execution_count": 9,
   "metadata": {},
   "outputs": [],
   "source": [
    "# Vamos gerar mais 210 pacientes e ver quantos deles o nosso\n",
    "# modelo consegue classificar corretamente\n",
    "\n",
    "test_labels = []\n",
    "test_samples = []\n",
    "\n",
    "for i in range(10):\n",
    "    # 5% dos jovens com efeitos colaterais\n",
    "    random_y = randint(13,64)\n",
    "    test_samples.append(random_y)\n",
    "    test_labels.append(1)\n",
    "    \n",
    "    # 5% dos idosos sem efeitos colaterais\n",
    "    random_o = randint(65,100)\n",
    "    test_samples.append(random_o)\n",
    "    test_labels.append(0)\n",
    "\n",
    "for i in range(200):\n",
    "    # 95% dos jovens sem efeitos colaterais\n",
    "    random_y = randint(13,64)\n",
    "    test_samples.append(random_y)\n",
    "    test_labels.append(0)\n",
    "    \n",
    "    # 95% dos idosos com efeitos colaterais\n",
    "    random_o = randint(65,100)\n",
    "    test_samples.append(random_o)\n",
    "    test_labels.append(1)"
   ]
  },
  {
   "cell_type": "code",
   "execution_count": 10,
   "metadata": {},
   "outputs": [
    {
     "name": "stderr",
     "output_type": "stream",
     "text": [
      "C:\\ProgramData\\Anaconda3\\lib\\site-packages\\sklearn\\utils\\validation.py:595: DataConversionWarning: Data with input dtype int32 was converted to float64 by MinMaxScaler.\n",
      "  warnings.warn(msg, DataConversionWarning)\n"
     ]
    }
   ],
   "source": [
    "# transformamos as listas em vetores\n",
    "test_samples = np.array(test_samples)\n",
    "test_labels = np.array(test_labels)\n",
    "\n",
    "# usamos a função para mudar a escala dos inputs\n",
    "stest_samples = scaler.fit_transform((test_samples).reshape(-1,1))"
   ]
  },
  {
   "cell_type": "code",
   "execution_count": 11,
   "metadata": {},
   "outputs": [],
   "source": [
    "# Dá as probabilidades dos dados pertencerem a cada classe\n",
    "prediction = model.predict(stest_samples, batch_size=10, verbose=0)\n",
    "\n",
    "# Dá só a classe mais provável de todos os dados\n",
    "round_pred = model.predict_classes(stest_samples, batch_size=10, verbose=0)"
   ]
  },
  {
   "cell_type": "markdown",
   "metadata": {},
   "source": [
    "### Matriz de Confusão\n",
    "\n",
    "A matriz de confusão é uma ferramenta bem útil para entender onde exatamente o nosso modelo está errando, ao invés de termos apenas a informação sobre a porcentagem das previsões que ele acerta."
   ]
  },
  {
   "cell_type": "code",
   "execution_count": 12,
   "metadata": {},
   "outputs": [],
   "source": [
    "# usa a função do sklearn pra fazer a matriz automáticamente\n",
    "cm = confusion_matrix(test_labels, round_pred)\n",
    "\n",
    "\n",
    "# função pra plotar a matriz de confusão mais bonitinho\n",
    "def plot_cm(cm, classes, normalize=False, title='Matriz de Confusão', cmap=plt.cm.Blues):\n",
    "    \n",
    "    plt.imshow(cm, interpolation='nearest', cmap=cmap)\n",
    "    plt.title(title)\n",
    "    plt.colorbar()\n",
    "    tick_marks = np.arange(len(classes))\n",
    "    plt.xticks(tick_marks, classes, rotation=45)\n",
    "    plt.yticks(tick_marks, classes)\n",
    "    \n",
    "    # se escolher normalização, irá mostrar a fração \n",
    "    # de acertos em cada categoria, ao invés do número\n",
    "    if normalize:\n",
    "        cm = cm.astype('float')/cm.sum(axis=1)[:,np.newaxis]\n",
    "        print('Matriz de Confusão Normalizada')\n",
    "    else:\n",
    "        print('Matriz de Confusão')\n",
    "    \n",
    "    print(cm)\n",
    "    \n",
    "    thresh = cm.max()/2\n",
    "    for i, j in itertools.product(range(cm.shape[0]), range(cm.shape[1])):\n",
    "        plt.text(j, i, cm[i,j],\n",
    "               horizontalalignment='center',\n",
    "               color='white' if cm[i,j]>thresh else 'black')\n",
    "    \n",
    "    plt.tight_layout()\n",
    "    plt.ylabel('Realidade')\n",
    "    plt.xlabel('Previsão')"
   ]
  },
  {
   "cell_type": "code",
   "execution_count": 13,
   "metadata": {},
   "outputs": [
    {
     "name": "stdout",
     "output_type": "stream",
     "text": [
      "Matriz de Confusão\n",
      "[[201   9]\n",
      " [ 16 194]]\n"
     ]
    },
    {
     "data": {
      "image/png": "[encoded data removed]",
      "text/plain": [
       "<Figure size 432x288 with 2 Axes>"
      ]
     },
     "metadata": {
      "needs_background": "light"
     },
     "output_type": "display_data"
    }
   ],
   "source": [
    "# rótulos de cada classe\n",
    "cm_labels = ['Sem efeitos colaterais', 'Com efeitos colaterais']\n",
    "\n",
    "# plotar a matriz\n",
    "plot_cm(cm, cm_labels, title='Matriz de Confusão')"
   ]
  },
  {
   "cell_type": "markdown",
   "metadata": {},
   "source": [
    "# Salvar e Carregar o modelo"
   ]
  },
  {
   "cell_type": "markdown",
   "metadata": {},
   "source": [
    "$\\textbf{.save}$: Salva a arquitetura do modelo, os pesos/parâmetros, a configuração de treinamento (função custo, optimizador), e o estado do optimizador (permite retomar o treino de onde você parou)."
   ]
  },
  {
   "cell_type": "code",
   "execution_count": null,
   "metadata": {},
   "outputs": [],
   "source": [
    "model.save('medical_trial.h5')"
   ]
  },
  {
   "cell_type": "code",
   "execution_count": null,
   "metadata": {},
   "outputs": [],
   "source": [
    "from keras.models import load_model\n",
    "\n",
    "# carrega o modelo e tudo mais\n",
    "new_model = load_model('medical_trial.h5')\n",
    "\n",
    "new_model.summary()"
   ]
  },
  {
   "cell_type": "code",
   "execution_count": null,
   "metadata": {},
   "outputs": [],
   "source": [
    "# outras informações\n",
    "new_model.weights()\n",
    "new_model.optimizer"
   ]
  },
  {
   "cell_type": "markdown",
   "metadata": {},
   "source": [
    "$\\textbf{.to_json}$: Guarda as informações apenas da arquitetura do modelo num string json."
   ]
  },
  {
   "cell_type": "code",
   "execution_count": null,
   "metadata": {},
   "outputs": [],
   "source": [
    "json_string = model.to_json()\n",
    "\n",
    "# descomente pra ver como fica o string\n",
    "#json_string"
   ]
  },
  {
   "cell_type": "code",
   "execution_count": null,
   "metadata": {},
   "outputs": [],
   "source": [
    "from keras.models import model_from_json\n",
    "\n",
    "# carrega a arquitetura a partir de um string json\n",
    "model_arch = model_from_json(json_string)\n",
    "\n",
    "model_arch.summary()"
   ]
  },
  {
   "cell_type": "markdown",
   "metadata": {},
   "source": [
    "$\\textbf{.save_weights}$: Salva apenas os valores dos pesos/parâmetros da rede."
   ]
  },
  {
   "cell_type": "code",
   "execution_count": null,
   "metadata": {},
   "outputs": [],
   "source": [
    "model.save_weights('medical_trial_weights.h5')"
   ]
  },
  {
   "cell_type": "code",
   "execution_count": null,
   "metadata": {},
   "outputs": [],
   "source": [
    "# a partir da arquitetura correta, carrega os pesos\n",
    "model_arch.load_weights('medical_trial_weights.h5')"
   ]
  }
 ],
 "metadata": {
  "kernelspec": {
   "display_name": "Python 3",
   "language": "python",
   "name": "python3"
  },
  "language_info": {
   "codemirror_mode": {
    "name": "ipython",
    "version": 3
   },
   "file_extension": ".py",
   "mimetype": "text/x-python",
   "name": "python",
   "nbconvert_exporter": "python",
   "pygments_lexer": "ipython3",
   "version": "3.7.6"
  }
 },
 "nbformat": 4,
 "nbformat_minor": 4
}
