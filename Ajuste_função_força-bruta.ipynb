{
 "cells": [
  {
   "cell_type": "code",
   "execution_count": 1,
   "metadata": {},
   "outputs": [],
   "source": [
    "import numpy as np\n",
    "from matplotlib import pyplot as pl"
   ]
  },
  {
   "cell_type": "markdown",
   "metadata": {},
   "source": [
    "# Ajuste de função"
   ]
  },
  {
   "cell_type": "markdown",
   "metadata": {},
   "source": [
    "Existem problemas em que medimos os valores $x$ e $y$, e sabemos que $y = y(x)$ (é função de $x$) mas não sabemos exatamente como essas duas variáveis estão relacionadas. O que podemos fazer então é chutar relações entre $x$ e $y$ envolvendo parâmetros adicionais e encontrar esses parâmetros.\n",
    "\n",
    "Por exemplo, se a relação for linear ($y = a\\cdot x + b$), podemos usar as funções abaixo para estimar $a$ e $b$.\n",
    "Se a relação for quadrática ($y = a\\cdot x^2 + b\\cdot x +c$), vamos estimar $a$, $b$ e $c$.\n",
    "\n",
    "E qualquer outra função maluca que você quiser."
   ]
  },
  {
   "cell_type": "code",
   "execution_count": 131,
   "metadata": {},
   "outputs": [],
   "source": [
    "# criando uma função de chi²\n",
    "def chisqr(obs,exp,err=None):\n",
    "    chi = 0\n",
    "\n",
    "    # levar em conta o erro\n",
    "    if err:\n",
    "        for i in range(len(obs)):\n",
    "            chi = chi + ((obs[i]-exp[i])**2)/(err[i]**2)\n",
    "\n",
    "    # sem erro\n",
    "    else:\n",
    "        for i in range(len(obs)):\n",
    "            chi = chi + ((obs[i]-exp[i])**2)\n",
    "    return chi\n",
    "\n",
    "\n",
    "# função resíduos\n",
    "def res(obs, exp):\n",
    "    res = np.zeros(len(obs))\n",
    "    for i in range(len(obs)):\n",
    "        res[i] = obs[i] - exp[i]\n",
    "    return res\n",
    "\n",
    "\n",
    "# valor esperado e incerteza calculados a partir da curva de probabilidades\n",
    "def esper(coisa,prob):\n",
    "    esper = np.sum(coisa*prob)/np.sum(prob)\n",
    "    return esper\n",
    "\n",
    "\n",
    "def erro(coisa,prob):\n",
    "    erro = ((esper(coisa**2,prob)-(esper(coisa,prob))**2))**(1/2)\n",
    "    return erro"
   ]
  },
  {
   "cell_type": "markdown",
   "metadata": {},
   "source": [
    "## Exemplo"
   ]
  },
  {
   "cell_type": "code",
   "execution_count": 193,
   "metadata": {},
   "outputs": [
    {
     "data": {
      "image/png": "[encoded data removed]",
      "text/plain": [
       "<Figure size 432x288 with 1 Axes>"
      ]
     },
     "metadata": {
      "needs_background": "light"
     },
     "output_type": "display_data"
    }
   ],
   "source": [
    "# digamos que estes sejam os dados observados\n",
    "x = np.arange(0,10,1)\n",
    "y = np.array([7, 6, 4, 8, 5, 10, 10, 9, 12, 8])\n",
    "\n",
    "pl.scatter(x,y)\n",
    "pl.grid(ls=':',c='k')"
   ]
  },
  {
   "cell_type": "markdown",
   "metadata": {},
   "source": [
    "Vamos supor um fit linear $y = a\\cdot x + b$"
   ]
  },
  {
   "cell_type": "code",
   "execution_count": 194,
   "metadata": {},
   "outputs": [],
   "source": [
    "# função a ser ajustada\n",
    "def f(a,b):\n",
    "    return a*x+b"
   ]
  },
  {
   "cell_type": "markdown",
   "metadata": {},
   "source": [
    "Ao introduzir os novos parâmetros, precisamos já ter uma ideia mais ou menos de em que intervalo de valores eles caem (você não precisa se preocupar tanto com um chute ruim porque dá pra refazer depois)\n",
    "\n",
    "A função np.linspace toma os argumentos < valor inicial >, < valor final >, e < nº subdivisões >. Se você não tem muita confiança no chute inicial, vale mais a pena escolher um intervalo largo sem muitas subdivisões pro cálculo adiante não demorar muito)"
   ]
  },
  {
   "cell_type": "code",
   "execution_count": 195,
   "metadata": {},
   "outputs": [],
   "source": [
    "# vetorizando\n",
    "a_v = np.linspace(0,5,50)\n",
    "b_v = np.linspace(0,10,50)\n",
    "\n",
    "na = len(a_v)\n",
    "nb = len(b_v)"
   ]
  },
  {
   "cell_type": "markdown",
   "metadata": {},
   "source": [
    "Agora definimos a matriz chi, que vai guardar a informação do quanto a função $f(x)$ difere dos valores de $y(x)$ para cada combinação dos parâmetros $a$ e $b$ que determinamos acima. Por isso a matriz chi deve ter o mesmo número de dimensões que o número de combinações que queremos testar.\n",
    "\n",
    "Exemplo: definindo $500$ subdivisões de $a$ e $500$ de $b$, a matriz chi terá $500*500 = 250000$ valores!"
   ]
  },
  {
   "cell_type": "code",
   "execution_count": 196,
   "metadata": {},
   "outputs": [],
   "source": [
    "chi = np.zeros((na,nb))\n",
    "\n",
    "# isso pode demorar dependendo de quantas subdivisões você\n",
    "# escolheu pra cada parâmetro\n",
    "for i in range(na):\n",
    "    for j in range(nb):\n",
    "        chi[i][j] = chisqr(y,f(a_v[i],b_v[j]))"
   ]
  },
  {
   "cell_type": "markdown",
   "metadata": {},
   "source": [
    "Em seguida calculamos a matriz probabilidade supondo que a distribuição dos erros dos parâmetros é gaussiana. Essencialmente vamos montar uma matriz para nos dizer qual a probabilidade de cada uma das combinações de $a$ e $b$ calculadas nos dar a relação observada entre $x$ e $y$."
   ]
  },
  {
   "cell_type": "code",
   "execution_count": 202,
   "metadata": {},
   "outputs": [],
   "source": [
    "prob = np.zeros((na,nb))\n",
    "\n",
    "# pegamos o menor valor da matriz chi\n",
    "# (vai corresponder ao valor de maior prob)\n",
    "mi = np.min(chi)\n",
    "\n",
    "# calculamos as probs\n",
    "prob = np.exp(-(chi-mi)**2)\n",
    "\n",
    "\n",
    "# normalizamos as probs para garantir que a soma das probs\n",
    "# de todas as combinações dá 1\n",
    "pmarg = np.sum(prob)\n",
    "prob = np.matrix.transpose(prob)/pmarg\n",
    "\n",
    "# distribuição de probs dos valores de a\n",
    "pmarga = np.sum(prob,axis=0)\n",
    "pmarga = pmarga / np.sum(pmarga)\n",
    "\n",
    "# distribuição de probs dos valores de b\n",
    "pmargb = np.sum(prob,axis=1)\n",
    "pmargb = pmargb / np.sum(pmargb)"
   ]
  },
  {
   "cell_type": "markdown",
   "metadata": {},
   "source": [
    "Daí, uma vez que temos as distribuições é só usar a função do valor esperado pra calcular o valor esperado e a incerteza dos parâmetros:"
   ]
  },
  {
   "cell_type": "code",
   "execution_count": 203,
   "metadata": {},
   "outputs": [
    {
     "name": "stdout",
     "output_type": "stream",
     "text": [
      "a = 0.5324652268433199  +  0.0631686420462543\n",
      "b = 5.502893429971211  +  0.3345708494920875\n"
     ]
    }
   ],
   "source": [
    "# valor esperado de a\n",
    "A = esper(a_v,pmarga)\n",
    "errA = erro(a_v,pmarga)\n",
    "print('a =', A,' + ',errA)\n",
    "\n",
    "# valor esperado de b\n",
    "B = esper(b_v,pmargb)\n",
    "errB = erro(b_v,pmargb)\n",
    "print('b =', B,' + ',errB)"
   ]
  },
  {
   "cell_type": "code",
   "execution_count": 204,
   "metadata": {},
   "outputs": [
    {
     "data": {
      "image/png": "[encoded data removed]",
      "text/plain": [
       "<Figure size 432x288 with 1 Axes>"
      ]
     },
     "metadata": {
      "needs_background": "light"
     },
     "output_type": "display_data"
    }
   ],
   "source": [
    "# plotar o ajuste\n",
    "#pl.errorbar(x,y,yerr=err,fmt='b.')\n",
    "pl.scatter(x,y)\n",
    "pl.plot(x,f(A,B),c='r')\n",
    "pl.xlabel('x', fontsize=12)\n",
    "pl.ylabel('y', fontsize=12)\n",
    "pl.title('Ajuste', fontsize=12)\n",
    "pl.grid(ls=':',c='k')"
   ]
  },
  {
   "cell_type": "markdown",
   "metadata": {},
   "source": [
    "Visualizando a distribuição de probabilidades dos dois parâmetros ao mesmo tempo:"
   ]
  },
  {
   "cell_type": "code",
   "execution_count": 205,
   "metadata": {},
   "outputs": [
    {
     "data": {
      "text/plain": [
       "Text(0, 0.5, '$b$')"
      ]
     },
     "execution_count": 205,
     "metadata": {},
     "output_type": "execute_result"
    },
    {
     "data": {
      "image/png": "[encoded data removed]",
      "text/plain": [
       "<Figure size 432x288 with 1 Axes>"
      ]
     },
     "metadata": {
      "needs_background": "light"
     },
     "output_type": "display_data"
    }
   ],
   "source": [
    "pl.figure()\n",
    "pl.contour(a_v,b_v,prob)\n",
    "pl.axhline(y=B,ls=':',c='k')\n",
    "pl.axvline(x=A,ls=':',c='k')\n",
    "pl.xlabel(r'$a$', fontsize = 12)\n",
    "pl.ylabel(r'$b$', fontsize = 12)"
   ]
  },
  {
   "cell_type": "markdown",
   "metadata": {},
   "source": [
    "Visualizando a distribuição de probabilidades de um parâmetro de cada vez:"
   ]
  },
  {
   "cell_type": "code",
   "execution_count": 206,
   "metadata": {},
   "outputs": [
    {
     "data": {
      "text/plain": [
       "Text(0, 0.5, '$prob_b$')"
      ]
     },
     "execution_count": 206,
     "metadata": {},
     "output_type": "execute_result"
    },
    {
     "data": {
      "text/plain": [
       "<Figure size 432x288 with 0 Axes>"
      ]
     },
     "metadata": {},
     "output_type": "display_data"
    },
    {
     "data": {
      "image/png": "[encoded data removed]",
      "text/plain": [
       "<Figure size 432x144 with 1 Axes>"
      ]
     },
     "metadata": {
      "needs_background": "light"
     },
     "output_type": "display_data"
    },
    {
     "data": {
      "image/png": "[encoded data removed]",
      "text/plain": [
       "<Figure size 432x144 with 1 Axes>"
      ]
     },
     "metadata": {
      "needs_background": "light"
     },
     "output_type": "display_data"
    }
   ],
   "source": [
    "pl.figure()\n",
    "pl.subplots(figsize=(6,2))\n",
    "pl.subplot(1,2,1)\n",
    "pl.plot(a_v,pmarga)\n",
    "pl.axvline(x=A,ls=':',c='k')\n",
    "pl.xlabel(r'$a$', fontsize = 12)\n",
    "pl.ylabel(r'$prob_a$', fontsize = 12)\n",
    "\n",
    "pl.subplots(figsize=(6,2))\n",
    "pl.subplot(1,2,2)\n",
    "pl.plot(b_v,pmargb)\n",
    "pl.axvline(x=B,ls=':',c='k')\n",
    "pl.xlabel(r'$b$', fontsize = 12)\n",
    "pl.ylabel(r'$prob_b$', fontsize = 12)\n"
   ]
  },
  {
   "cell_type": "code",
   "execution_count": null,
   "metadata": {},
   "outputs": [],
   "source": []
  },
  {
   "cell_type": "code",
   "execution_count": null,
   "metadata": {},
   "outputs": [],
   "source": []
  }
 ],
 "metadata": {
  "kernelspec": {
   "display_name": "Python 3",
   "language": "python",
   "name": "python3"
  },
  "language_info": {
   "codemirror_mode": {
    "name": "ipython",
    "version": 3
   },
   "file_extension": ".py",
   "mimetype": "text/x-python",
   "name": "python",
   "nbconvert_exporter": "python",
   "pygments_lexer": "ipython3",
   "version": "3.7.6"
  }
 },
 "nbformat": 4,
 "nbformat_minor": 4
}
