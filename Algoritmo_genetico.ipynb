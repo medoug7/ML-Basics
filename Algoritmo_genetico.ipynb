{
 "cells": [
  {
   "cell_type": "code",
   "execution_count": 1,
   "metadata": {},
   "outputs": [],
   "source": [
    "import numpy as np\n",
    "from matplotlib import pyplot as plt\n",
    "import random as rd"
   ]
  },
  {
   "cell_type": "markdown",
   "metadata": {},
   "source": [
    "Vamos utilizar um algoritmo genético pra resolver o famoso problema do vendedor ambulante.\n",
    "\n",
    "O problema consiste de um vendedor que precisa visitar $N$ cidades (pontos) e voltar para a posição inicial pela rota que minimiza a distância total que ele vai ter que andar. Queremos encontrar essa rota."
   ]
  },
  {
   "cell_type": "markdown",
   "metadata": {},
   "source": [
    "# Algoritmo Genético/Evolutivo"
   ]
  },
  {
   "cell_type": "markdown",
   "metadata": {},
   "source": [
    "O algoritmo consiste em imitar o processo evolutivo que ocorre na natureza para encontrar o genoma mais apto para resolver o problema. Utilizamos três conceitos importantes:\n",
    "\n",
    "1 - Hereditariedade\n",
    "\n",
    "2 - Mutação\n",
    "\n",
    "3 - Seleção\n",
    "\n",
    "Neste caso cada genoma das nossas \"criaturas\" representará uma rota possível, e a ordem dos seus genes irá codificar a ordem em que vamos visitar cada ponto. Por exemplo: se tivermos apenas 3 cidades para visitar, o genoma $[c_1,c_2,c_3]$ corresponde a uma rota que começa na $c_1$, passa pela $c_2$, pela $c_3$, e volta pra $c_1$.\n",
    "\n",
    "Começaremos com uma população de tantas criaturas cujos genomas serão definidos aleatoriamente, aquelas que tiverem melhor sucesso sobreviverão e poderão se reproduzir (isso envolverá um algoritmo de cross over em que um novo genoma será produzido da combinação dos genes dos pais), e as criaturas com pior performance serão substituídas pelas novas e esquecidas na próxima geração. Também incluiremos um mecanismo de mutação, em que (com uma probabilidade que iremos definir) uma criatura terá a ordem dos seus genes alterada aleatoriamente; isso ajuda a garantir diversidade genética e faz com que diferentes possibilidades sejam exploradas pelo algoritmo, impedindo a estagnação."
   ]
  },
  {
   "cell_type": "code",
   "execution_count": 2,
   "metadata": {},
   "outputs": [],
   "source": [
    "class genes:\n",
    "    \n",
    "    # dados, tamanho da pop\n",
    "    def __init__(self,x,n_pop):\n",
    "        # sempre começamos no x[0]\n",
    "        self.x = x\n",
    "        self.M = len(x)\n",
    "        self.dim = len(x[0])\n",
    "        \n",
    "        # sobra M-1 pontos pra visitar\n",
    "        self.points = np.arange(self.M-1)\n",
    "        pop = np.zeros((n_pop,self.M-1))\n",
    "        for p in range (n_pop):\n",
    "            np.random.shuffle(self.points)\n",
    "            pop[p] = self.points\n",
    "        # população inicial\n",
    "        self.pop = pop.astype(int)\n",
    "    \n",
    "    \n",
    "    # retorna pontuação (fit) objetiva da população\n",
    "    def fit(self,pop):\n",
    "        x = self.x\n",
    "        N = len(pop)\n",
    "        dim = len(pop[0])\n",
    "        x0 = x[0]\n",
    "        f = np.zeros((N,1))\n",
    "        # nesse caso o fit é a dist total (e queremos a menor)\n",
    "        for p in range (N):\n",
    "            D = dist(x0,x[pop[p,0]])\n",
    "            for i in range (dim-1):\n",
    "                D = D + dist(x[pop[p,i]],x[pop[p,i+1]])\n",
    "            D = D + dist(x[pop[p,dim-1]],x0)\n",
    "            f[p] = D\n",
    "        return f\n",
    "    \n",
    "    \n",
    "    # pontuação relativa (usada como chance de reprodução)\n",
    "    def bestf(self,pop):\n",
    "        f = self.fit(pop)\n",
    "        # função arbitrária pra definir a chance \n",
    "        # de reprodução com base no fit\n",
    "        b = 1 - (f/np.max(f))**2\n",
    "        return b\n",
    "    \n",
    "    \n",
    "    # produzir nova população\n",
    "    # população, pontuação relativa, % da pop a nascer, chance de mutação\n",
    "    def crossover(self,pop,b,sex,mut):\n",
    "        N = len(pop)\n",
    "        dim = self.M - 1\n",
    "        # nª genomas que sobrevivem pra próxima geração\n",
    "        n_survive = np.int(np.round(N*(1-sex)))\n",
    "        # nova população\n",
    "        Pop = np.zeros((N,dim))\n",
    "        n = 0\n",
    "        \n",
    "        # os que sobrevivem\n",
    "        for i in range(n_survive):\n",
    "            # i-ésimo melhor apto\n",
    "            s = (-b).argsort()[i]\n",
    "            Pop[n] = pop[s]\n",
    "            n = n + 1\n",
    "        \n",
    "        # novos genomas que vão nascer\n",
    "        while n < N:\n",
    "            for i in range(N):\n",
    "                # pra cada genoma checamos a chance de reprodução\n",
    "                if rd.random() < b[i]:\n",
    "                    for j in range(N):\n",
    "                        if rd.random() < b[j] and i != j:\n",
    "                            # uma vez que dois genomas copulam, suas\n",
    "                            # chances de copularem de novo cai\n",
    "                            b[i] = b[i]*3/4\n",
    "                            b[j] = b[j]*3/4\n",
    "                            \n",
    "                            # cruza os genomas e adiciona uma combinação\n",
    "                            A = cross(pop[i],pop[j])\n",
    "                            Pop[n] = A[0]\n",
    "                            n = n + 1\n",
    "                            \n",
    "                            # checa se já encheu a população\n",
    "                            if n == N:\n",
    "                                break\n",
    "                            # senão adiciona a outra combinação\n",
    "                            Pop[n] = A[1]\n",
    "                            n = n + 1\n",
    "                            if n == N:\n",
    "                                break\n",
    "                if n == N:\n",
    "                    break\n",
    "        \n",
    "        # realiza as mutações\n",
    "        for p in range(len(Pop)):\n",
    "            if rd.random() < mut:\n",
    "                # indice do gene que vai sofrer mut\n",
    "                ga = np.int(rd.random()*(dim))\n",
    "                gb = np.int(rd.random()*(dim))\n",
    "                while gb == ga:\n",
    "                    gb = np.int(rd.random()*(dim))\n",
    "                \n",
    "                # troca os genes de lugar\n",
    "                Pop[p] = troca(Pop[p],ga,gb)\n",
    "                    \n",
    "        return Pop.astype(int)\n",
    "    \n",
    "    \n",
    "    # evolução\n",
    "    #  % da pop a nascer, chance de mutação, nº max de gerações\n",
    "    def evoluir(self,sex,mut,ger):\n",
    "        x = self.x\n",
    "        pop = self.pop\n",
    "        N = len(pop)\n",
    "        \n",
    "        Bests = np.zeros(ger)\n",
    "        Bests[0] = np.min(self.fit(pop))\n",
    "        \n",
    "        Bop = pop.copy()\n",
    "        for g in range(1,ger,1):\n",
    "            # determina a chance de rep de cada um\n",
    "            b = self.bestf(pop)\n",
    "            # realiza o sexo e as mutações\n",
    "            pop = self.crossover(pop,b,sex,mut)\n",
    "            \n",
    "            # se houve melhoria nós atualizamos a população\n",
    "            # (sem esse código é possível que o fit de uma geração fique\n",
    "            # pior que a anterior por pura chance, tomando muito tempo.\n",
    "            if np.min(self.fit(pop)) <= np.min(self.fit(Bop)):\n",
    "                Bop = pop.copy()\n",
    "                \n",
    "            Bests[g] = np.min(self.fit(Bop))\n",
    "        \n",
    "        # atualiza a população\n",
    "        self.pop = Bop\n",
    "        return Bests\n",
    "    \n",
    "    \n",
    "    # retorna o melhor genoma da geração atual, e seu caminho\n",
    "    def best(self):\n",
    "        pop = self.pop\n",
    "        f = self.fit(self.pop)\n",
    "        # pega o genoma com melhor fit (nesse casso menor dist)\n",
    "        best = pop[np.argmin(f)]\n",
    "\n",
    "        y = np.zeros((self.M,self.dim))\n",
    "        y[0] = x[0]\n",
    "        for i in range (self.M-1):\n",
    "            y[i+1] = x[best[i]+1]\n",
    "            \n",
    "        # retorna o genoma e sua dist\n",
    "        return y, np.min(self.fit(pop))\n",
    "\n",
    "\n",
    "# função pra calcular dist entre 2 pontos\n",
    "def dist(x1,x2):\n",
    "    d2 = 0\n",
    "    if type(x1)==int:\n",
    "        # pitágoras pra só uma dimensão\n",
    "        d2 = d2 + (x1-x2)**2\n",
    "    else:\n",
    "        # usa pitagoras pra várias dimensões\n",
    "        for i in range (len(x1)):\n",
    "            d2 = d2 + (x1[i]-x2[i])**2\n",
    "    return np.sqrt(d2)\n",
    "\n",
    "\n",
    "# troca elementos de indice a e b do array A \n",
    "def troca(A,a,b):\n",
    "    A1 = A[a]\n",
    "    A2 = A[b]\n",
    "    # é importante usar a função copy aqui ao invés de \"=\"\n",
    "    # porque senão alterações em B iriam alterar A também\n",
    "    B = A.copy()\n",
    "    B[a] = A2\n",
    "    B[b] = A1\n",
    "    return B\n",
    "\n",
    "\n",
    "# troca as metades dos vetores A e B (sem repetir)\n",
    "# input: A = [1,3,5,7], B = [2,4,6,8]\n",
    "# output: C = [1,3,6,8], D = [2,4,5,7]\n",
    "def cross(A,B):\n",
    "    dim = len(A)\n",
    "    met_d = np.int(np.round(dim/2))\n",
    "    \n",
    "    # lista dos genes\n",
    "    Pa = A.tolist()\n",
    "    Pb = B.tolist()\n",
    "    # metades dos genomas de A\n",
    "    ga1, ga2 = Pa[:-met_d], Pa[(dim-met_d):]\n",
    "    gb1, gb2 = [], []\n",
    "    i = 0\n",
    "    # pra não retornar com genes repetidos:\n",
    "    while len(gb1+gb2) != len(Pb):\n",
    "        if any(flag == Pb[i]  for (flag) in ga1) == True:\n",
    "            gb1.append(Pb[i])\n",
    "            i = i + 1\n",
    "        else:\n",
    "            if len(gb2) != len(ga2):\n",
    "                gb2.append(Pb[i])\n",
    "                i = i + 1\n",
    "        \n",
    "        if len(gb1+gb2) == len(Pb):\n",
    "            break\n",
    "        \n",
    "        if any(flag == Pb[i]  for (flag) in ga2) == True:\n",
    "            gb2.append(Pb[i])\n",
    "            i = i + 1\n",
    "        else:\n",
    "            if len(gb1) != len(ga1):\n",
    "                gb1.append(Pb[i])\n",
    "                i = i + 1\n",
    "        \n",
    "    C, D = ga1 + gb2, gb1 + ga2\n",
    "    return np.array(C),np.array(D)\n",
    "\n",
    "\n",
    "# troca as metades dos vetores A e B (pode repetir)\n",
    "def crossrep(A,B):\n",
    "    dim = len(A)\n",
    "    met_d = np.int(np.round(dim/2))\n",
    "    \n",
    "    Pa = A.tolist()\n",
    "    Pb = B.tolist()\n",
    "    ga1, ga2 = Pa[:-met_d],Pa[(dim-met_d):]\n",
    "    gb1, gb2 = Pb[:-met_d],Pb[(dim-met_d):]    \n",
    "    \n",
    "    C, D = ga1 + gb2, gb1 + ga2\n",
    "    return np.array(C), np.array(D)"
   ]
  },
  {
   "cell_type": "markdown",
   "metadata": {},
   "source": [
    "# Vendedor ambulante"
   ]
  },
  {
   "cell_type": "markdown",
   "metadata": {},
   "source": [
    "A distribuição das cidades é definida abaixo, sendo o primeiro ponto $(0,0)$ sempre a posição da primeira cidade.\n",
    "\n",
    "Essa distribuição é tal (se você não alterar os valores) que fica fácil de encontrar a melhor rota no só olhando, ela deverá ser algo meio circular e sem muito zigzague."
   ]
  },
  {
   "cell_type": "code",
   "execution_count": 3,
   "metadata": {},
   "outputs": [
    {
     "data": {
      "text/plain": [
       "<matplotlib.collections.PathCollection at 0x1e4fba51908>"
      ]
     },
     "execution_count": 3,
     "metadata": {},
     "output_type": "execute_result"
    },
    {
     "data": {
      "image/png": "[encoded data removed]",
      "text/plain": [
       "<Figure size 432x288 with 1 Axes>"
      ]
     },
     "metadata": {
      "needs_background": "light"
     },
     "output_type": "display_data"
    }
   ],
   "source": [
    "# coordenadas das cidades\n",
    "x = np.array([[0,0],[7,-5],[14,5],[16,18],[10,28],[7,25],[-0.7,30],[3,22],[-1,10]])\n",
    "\n",
    "plt.scatter(x[:,0],x[:,1],c='k')"
   ]
  },
  {
   "cell_type": "markdown",
   "metadata": {},
   "source": [
    "Abaixo geramos uma população inicial com genomas definidos aleatoriamente, então não esperamos encontrar uma rota ideal logo de cara.\n",
    "\n",
    "Na realidade, dependendo da complexidade do problema (o nª de cidades que temos que visitar) e o tamanho da população inicial, é possivel gerarmos a solução ideal logo de cara por pura chance! Por exemplo, se gerarmos um milhão de genomas diferentes é bem provável que uma boa parcela deles acabe sendo exatamente a resposta que procuramos. Isso é um fato estatístico, mas pode nao ser uma estratégia muito eficiente para problemas mais complicados."
   ]
  },
  {
   "cell_type": "code",
   "execution_count": 4,
   "metadata": {},
   "outputs": [
    {
     "name": "stdout",
     "output_type": "stream",
     "text": [
      "Distância = 119.48504191965253\n"
     ]
    },
    {
     "data": {
      "text/plain": [
       "<matplotlib.collections.PathCollection at 0x1e4ff558648>"
      ]
     },
     "execution_count": 4,
     "metadata": {},
     "output_type": "execute_result"
    },
    {
     "data": {
      "image/png": "[encoded data removed]",
      "text/plain": [
       "<Figure size 432x288 with 1 Axes>"
      ]
     },
     "metadata": {
      "needs_background": "light"
     },
     "output_type": "display_data"
    }
   ],
   "source": [
    "# Tamanho da população\n",
    "n_pop = 20\n",
    "viagem = genes(x,n_pop)\n",
    "\n",
    "# devolve o melhor genoma inicial\n",
    "best = viagem.best()\n",
    "z = best[0] \n",
    "Z = best[1]\n",
    "\n",
    "print('Distância =', Z)\n",
    "plt.plot(z[:,0],z[:,1],c='r')\n",
    "plt.scatter(x[:,0],x[:,1],c='k')"
   ]
  },
  {
   "cell_type": "code",
   "execution_count": 5,
   "metadata": {},
   "outputs": [
    {
     "name": "stdout",
     "output_type": "stream",
     "text": [
      "Distância final = 90.0651267641141\n"
     ]
    },
    {
     "data": {
      "text/plain": [
       "Text(0, 0.5, 'Distância')"
      ]
     },
     "execution_count": 5,
     "metadata": {},
     "output_type": "execute_result"
    },
    {
     "data": {
      "image/png": "[encoded data removed]",
      "text/plain": [
       "<Figure size 432x288 with 1 Axes>"
      ]
     },
     "metadata": {
      "needs_background": "light"
     },
     "output_type": "display_data"
    }
   ],
   "source": [
    "# Realiza a evolução\n",
    "# (% da pop que nasce, chance de mutação, nº max de gerações)\n",
    "evol = viagem.evoluir(0.25,0.4,1500)\n",
    "\n",
    "print('Distância final =', evol[-1])\n",
    "plt.plot(evol,c='b')\n",
    "plt.xlabel('Geração')\n",
    "plt.ylabel('Distância')"
   ]
  },
  {
   "cell_type": "code",
   "execution_count": 6,
   "metadata": {},
   "outputs": [
    {
     "name": "stdout",
     "output_type": "stream",
     "text": [
      "\n",
      "Distância inicial = 119.48504191965253 \n",
      "\n",
      "Distância final = 90.0651267641141\n"
     ]
    },
    {
     "data": {
      "image/png": "[encoded data removed]",
      "text/plain": [
       "<Figure size 432x288 with 1 Axes>"
      ]
     },
     "metadata": {
      "needs_background": "light"
     },
     "output_type": "display_data"
    },
    {
     "data": {
      "image/png": "[encoded data removed]",
      "text/plain": [
       "<Figure size 432x288 with 1 Axes>"
      ]
     },
     "metadata": {
      "needs_background": "light"
     },
     "output_type": "display_data"
    }
   ],
   "source": [
    "# pega o melhor depois da evolução\n",
    "best = viagem.best()\n",
    "y = best[0]\n",
    "Y = best[1]\n",
    "print('\\nDistância inicial =', Z, '\\n\\nDistância final =', Y)\n",
    "\n",
    "\n",
    "# plotamos pra comparar o antes e o depois\n",
    "plt.subplot(1,1,1)\n",
    "plt.plot(z[:,0],z[:,1],c='r')\n",
    "plt.scatter(x[:,0],x[:,1],c='k')\n",
    "plt.show()\n",
    "\n",
    "plt.subplot(1,1,1)\n",
    "plt.plot(y[:,0],y[:,1],c='lime')\n",
    "plt.scatter(x[:,0],x[:,1],c='k')\n",
    "plt.show()"
   ]
  }
 ],
 "metadata": {
  "kernelspec": {
   "display_name": "Python 3",
   "language": "python",
   "name": "python3"
  },
  "language_info": {
   "codemirror_mode": {
    "name": "ipython",
    "version": 3
   },
   "file_extension": ".py",
   "mimetype": "text/x-python",
   "name": "python",
   "nbconvert_exporter": "python",
   "pygments_lexer": "ipython3",
   "version": "3.7.6"
  }
 },
 "nbformat": 4,
 "nbformat_minor": 2
}
